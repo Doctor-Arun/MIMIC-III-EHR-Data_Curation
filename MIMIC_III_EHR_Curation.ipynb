{
  "nbformat": 4,
  "nbformat_minor": 0,
  "metadata": {
    "colab": {
      "provenance": []
    },
    "kernelspec": {
      "name": "python3",
      "display_name": "Python 3"
    },
    "language_info": {
      "name": "python"
    }
  },
  "cells": [
    {
      "cell_type": "markdown",
      "source": [
        "**Uploading ZIP file to colab**"
      ],
      "metadata": {
        "id": "TK-XO6tmKdW0"
      }
    },
    {
      "cell_type": "code",
      "execution_count": 1,
      "metadata": {
        "id": "fvs6EjorI7ii",
        "colab": {
          "base_uri": "https://localhost:8080/",
          "height": 125
        },
        "outputId": "d5e59e45-4043-433a-b47e-3c1abac80417"
      },
      "outputs": [
        {
          "output_type": "display_data",
          "data": {
            "text/plain": [
              "<IPython.core.display.HTML object>"
            ],
            "text/html": [
              "\n",
              "     <input type=\"file\" id=\"files-d023a5f1-7899-4347-b934-a635eecf6cb0\" name=\"files[]\" multiple disabled\n",
              "        style=\"border:none\" />\n",
              "     <output id=\"result-d023a5f1-7899-4347-b934-a635eecf6cb0\">\n",
              "      Upload widget is only available when the cell has been executed in the\n",
              "      current browser session. Please rerun this cell to enable.\n",
              "      </output>\n",
              "      <script>// Copyright 2017 Google LLC\n",
              "//\n",
              "// Licensed under the Apache License, Version 2.0 (the \"License\");\n",
              "// you may not use this file except in compliance with the License.\n",
              "// You may obtain a copy of the License at\n",
              "//\n",
              "//      http://www.apache.org/licenses/LICENSE-2.0\n",
              "//\n",
              "// Unless required by applicable law or agreed to in writing, software\n",
              "// distributed under the License is distributed on an \"AS IS\" BASIS,\n",
              "// WITHOUT WARRANTIES OR CONDITIONS OF ANY KIND, either express or implied.\n",
              "// See the License for the specific language governing permissions and\n",
              "// limitations under the License.\n",
              "\n",
              "/**\n",
              " * @fileoverview Helpers for google.colab Python module.\n",
              " */\n",
              "(function(scope) {\n",
              "function span(text, styleAttributes = {}) {\n",
              "  const element = document.createElement('span');\n",
              "  element.textContent = text;\n",
              "  for (const key of Object.keys(styleAttributes)) {\n",
              "    element.style[key] = styleAttributes[key];\n",
              "  }\n",
              "  return element;\n",
              "}\n",
              "\n",
              "// Max number of bytes which will be uploaded at a time.\n",
              "const MAX_PAYLOAD_SIZE = 100 * 1024;\n",
              "\n",
              "function _uploadFiles(inputId, outputId) {\n",
              "  const steps = uploadFilesStep(inputId, outputId);\n",
              "  const outputElement = document.getElementById(outputId);\n",
              "  // Cache steps on the outputElement to make it available for the next call\n",
              "  // to uploadFilesContinue from Python.\n",
              "  outputElement.steps = steps;\n",
              "\n",
              "  return _uploadFilesContinue(outputId);\n",
              "}\n",
              "\n",
              "// This is roughly an async generator (not supported in the browser yet),\n",
              "// where there are multiple asynchronous steps and the Python side is going\n",
              "// to poll for completion of each step.\n",
              "// This uses a Promise to block the python side on completion of each step,\n",
              "// then passes the result of the previous step as the input to the next step.\n",
              "function _uploadFilesContinue(outputId) {\n",
              "  const outputElement = document.getElementById(outputId);\n",
              "  const steps = outputElement.steps;\n",
              "\n",
              "  const next = steps.next(outputElement.lastPromiseValue);\n",
              "  return Promise.resolve(next.value.promise).then((value) => {\n",
              "    // Cache the last promise value to make it available to the next\n",
              "    // step of the generator.\n",
              "    outputElement.lastPromiseValue = value;\n",
              "    return next.value.response;\n",
              "  });\n",
              "}\n",
              "\n",
              "/**\n",
              " * Generator function which is called between each async step of the upload\n",
              " * process.\n",
              " * @param {string} inputId Element ID of the input file picker element.\n",
              " * @param {string} outputId Element ID of the output display.\n",
              " * @return {!Iterable<!Object>} Iterable of next steps.\n",
              " */\n",
              "function* uploadFilesStep(inputId, outputId) {\n",
              "  const inputElement = document.getElementById(inputId);\n",
              "  inputElement.disabled = false;\n",
              "\n",
              "  const outputElement = document.getElementById(outputId);\n",
              "  outputElement.innerHTML = '';\n",
              "\n",
              "  const pickedPromise = new Promise((resolve) => {\n",
              "    inputElement.addEventListener('change', (e) => {\n",
              "      resolve(e.target.files);\n",
              "    });\n",
              "  });\n",
              "\n",
              "  const cancel = document.createElement('button');\n",
              "  inputElement.parentElement.appendChild(cancel);\n",
              "  cancel.textContent = 'Cancel upload';\n",
              "  const cancelPromise = new Promise((resolve) => {\n",
              "    cancel.onclick = () => {\n",
              "      resolve(null);\n",
              "    };\n",
              "  });\n",
              "\n",
              "  // Wait for the user to pick the files.\n",
              "  const files = yield {\n",
              "    promise: Promise.race([pickedPromise, cancelPromise]),\n",
              "    response: {\n",
              "      action: 'starting',\n",
              "    }\n",
              "  };\n",
              "\n",
              "  cancel.remove();\n",
              "\n",
              "  // Disable the input element since further picks are not allowed.\n",
              "  inputElement.disabled = true;\n",
              "\n",
              "  if (!files) {\n",
              "    return {\n",
              "      response: {\n",
              "        action: 'complete',\n",
              "      }\n",
              "    };\n",
              "  }\n",
              "\n",
              "  for (const file of files) {\n",
              "    const li = document.createElement('li');\n",
              "    li.append(span(file.name, {fontWeight: 'bold'}));\n",
              "    li.append(span(\n",
              "        `(${file.type || 'n/a'}) - ${file.size} bytes, ` +\n",
              "        `last modified: ${\n",
              "            file.lastModifiedDate ? file.lastModifiedDate.toLocaleDateString() :\n",
              "                                    'n/a'} - `));\n",
              "    const percent = span('0% done');\n",
              "    li.appendChild(percent);\n",
              "\n",
              "    outputElement.appendChild(li);\n",
              "\n",
              "    const fileDataPromise = new Promise((resolve) => {\n",
              "      const reader = new FileReader();\n",
              "      reader.onload = (e) => {\n",
              "        resolve(e.target.result);\n",
              "      };\n",
              "      reader.readAsArrayBuffer(file);\n",
              "    });\n",
              "    // Wait for the data to be ready.\n",
              "    let fileData = yield {\n",
              "      promise: fileDataPromise,\n",
              "      response: {\n",
              "        action: 'continue',\n",
              "      }\n",
              "    };\n",
              "\n",
              "    // Use a chunked sending to avoid message size limits. See b/62115660.\n",
              "    let position = 0;\n",
              "    do {\n",
              "      const length = Math.min(fileData.byteLength - position, MAX_PAYLOAD_SIZE);\n",
              "      const chunk = new Uint8Array(fileData, position, length);\n",
              "      position += length;\n",
              "\n",
              "      const base64 = btoa(String.fromCharCode.apply(null, chunk));\n",
              "      yield {\n",
              "        response: {\n",
              "          action: 'append',\n",
              "          file: file.name,\n",
              "          data: base64,\n",
              "        },\n",
              "      };\n",
              "\n",
              "      let percentDone = fileData.byteLength === 0 ?\n",
              "          100 :\n",
              "          Math.round((position / fileData.byteLength) * 100);\n",
              "      percent.textContent = `${percentDone}% done`;\n",
              "\n",
              "    } while (position < fileData.byteLength);\n",
              "  }\n",
              "\n",
              "  // All done.\n",
              "  yield {\n",
              "    response: {\n",
              "      action: 'complete',\n",
              "    }\n",
              "  };\n",
              "}\n",
              "\n",
              "scope.google = scope.google || {};\n",
              "scope.google.colab = scope.google.colab || {};\n",
              "scope.google.colab._files = {\n",
              "  _uploadFiles,\n",
              "  _uploadFilesContinue,\n",
              "};\n",
              "})(self);\n",
              "</script> "
            ]
          },
          "metadata": {}
        },
        {
          "output_type": "stream",
          "name": "stdout",
          "text": [
            "Saving mimic-iii-clinical-database-demo-1.4.zip to mimic-iii-clinical-database-demo-1.4.zip\n",
            "\n",
            " ZIP file uploaded!\n",
            "File name: mimic-iii-clinical-database-demo-1.4.zip\n"
          ]
        }
      ],
      "source": [
        "from google.colab import files\n",
        "import zipfile\n",
        "import os\n",
        "\n",
        "uploaded = files.upload()\n",
        "\n",
        "print(\"\\n ZIP file uploaded!\")\n",
        "print(f\"File name: {list(uploaded.keys())[0]}\")"
      ]
    },
    {
      "cell_type": "markdown",
      "source": [
        "**Extracting the zip file**"
      ],
      "metadata": {
        "id": "Ru1BcDu5MIkS"
      }
    },
    {
      "cell_type": "code",
      "source": [
        "import zipfile\n",
        "\n",
        "# Get the zip file name\n",
        "zip_filename = list(uploaded.keys())[0]\n",
        "\n",
        "# Extract the zip file\n",
        "with zipfile.ZipFile(zip_filename, 'r') as zip_ref:\n",
        "    zip_ref.extractall('mimic_data')\n",
        "\n",
        "print(\"Extraction complete!\")\n",
        "print()\n",
        "\n",
        "# List all extracted files\n",
        "print(\"Files extracted:\")\n",
        "files_list = os.listdir('mimic_data')\n",
        "print(f\"Total files: {len(files_list)}\")\n",
        "print()\n",
        "\n",
        "# Show CSV files only\n",
        "csv_files = [f for f in files_list if f.endswith('.csv')]\n",
        "print(f\"CSV files found: {len(csv_files)}\")\n",
        "for i, file in enumerate(csv_files[:10], 1):  # Show first 10\n",
        "    print(f\"  {i}. {file}\")\n",
        "\n",
        "if len(csv_files) > 10:\n",
        "    print(f\"  ... and {len(csv_files) - 10} more files\")"
      ],
      "metadata": {
        "colab": {
          "base_uri": "https://localhost:8080/"
        },
        "id": "rFdO_8_dMMIu",
        "outputId": "e50cc011-90ae-4bcb-cd28-878209257091"
      },
      "execution_count": 3,
      "outputs": [
        {
          "output_type": "stream",
          "name": "stdout",
          "text": [
            "Extraction complete!\n",
            "\n",
            "Files extracted:\n",
            "Total files: 1\n",
            "\n",
            "CSV files found: 0\n"
          ]
        }
      ]
    },
    {
      "cell_type": "markdown",
      "source": [
        "**Finding the actual files**"
      ],
      "metadata": {
        "id": "8mzylH8NMNFb"
      }
    },
    {
      "cell_type": "code",
      "source": [
        "# Check what's inside the extracted folder\n",
        "# List everything in mimic_data\n",
        "for item in os.listdir('mimic_data'):\n",
        "    item_path = os.path.join('mimic_data', item)\n",
        "    if os.path.isdir(item_path):\n",
        "        print(f\"Found folder: {item}\")\n",
        "        print(f\"   Contents inside:\")\n",
        "        inner_files = os.listdir(item_path)\n",
        "        print(f\"   Total items: {len(inner_files)}\")\n",
        "\n",
        "        # Show first 15 files\n",
        "        for i, file in enumerate(inner_files[:15], 1):\n",
        "            print(f\"     {i}. {file}\")\n",
        "\n",
        "        if len(inner_files) > 15:\n",
        "            print(f\"     ... and {len(inner_files) - 15} more files\")\n",
        "    else:\n",
        "        print(f\"File: {item}\")"
      ],
      "metadata": {
        "colab": {
          "base_uri": "https://localhost:8080/"
        },
        "id": "eA0hKrDkMaYn",
        "outputId": "c91a2883-47e2-4880-8a84-fcea114f6a37"
      },
      "execution_count": 4,
      "outputs": [
        {
          "output_type": "stream",
          "name": "stdout",
          "text": [
            "Found folder: mimic-iii-clinical-database-demo-1.4\n",
            "   Contents inside:\n",
            "   Total items: 28\n",
            "     1. PROCEDURES_ICD.csv\n",
            "     2. SERVICES.csv\n",
            "     3. D_ICD_DIAGNOSES.csv\n",
            "     4. INPUTEVENTS_MV.csv\n",
            "     5. INPUTEVENTS_CV.csv\n",
            "     6. TRANSFERS.csv\n",
            "     7. MICROBIOLOGYEVENTS.csv\n",
            "     8. D_LABITEMS.csv\n",
            "     9. DIAGNOSES_ICD.csv\n",
            "     10. D_ITEMS.csv\n",
            "     11. CALLOUT.csv\n",
            "     12. LABEVENTS.csv\n",
            "     13. PROCEDUREEVENTS_MV.csv\n",
            "     14. CPTEVENTS.csv\n",
            "     15. OUTPUTEVENTS.csv\n",
            "     ... and 13 more files\n"
          ]
        }
      ]
    },
    {
      "cell_type": "markdown",
      "source": [
        "**Importing Libraries & Loading Datasets**"
      ],
      "metadata": {
        "id": "1SbDc_LuMcf6"
      }
    },
    {
      "cell_type": "code",
      "source": [
        "import pandas as pd\n",
        "import numpy as np\n",
        "import warnings\n",
        "warnings.filterwarnings('ignore')\n",
        "\n",
        "# Set the correct path\n",
        "data_path = 'mimic_data/mimic-iii-clinical-database-demo-1.4/'\n",
        "\n",
        "print(\"=\" * 70)\n",
        "print(\"LOADING MIMIC-III DEMO DATA\")\n",
        "print(\"=\" * 70)\n",
        "print()\n",
        "\n",
        "# Load the key datasets we need\n",
        "print(\"Loading datasets...\")\n",
        "\n",
        "patients = pd.read_csv(data_path + 'PATIENTS.csv')\n",
        "print(\"PATIENTS.csv loaded\")\n",
        "\n",
        "admissions = pd.read_csv(data_path + 'ADMISSIONS.csv')\n",
        "print(\"ADMISSIONS.csv loaded\")\n",
        "\n",
        "diagnoses = pd.read_csv(data_path + 'DIAGNOSES_ICD.csv')\n",
        "print(\"DIAGNOSES_ICD.csv loaded\")\n",
        "\n",
        "procedures = pd.read_csv(data_path + 'PROCEDURES_ICD.csv')\n",
        "print(\"PROCEDURES_ICD.csv loaded\")\n",
        "\n",
        "d_icd_diagnoses = pd.read_csv(data_path + 'D_ICD_DIAGNOSES.csv')\n",
        "print(\"D_ICD_DIAGNOSES.csv loaded\")\n",
        "\n",
        "d_icd_procedures = pd.read_csv(data_path + 'D_ICD_PROCEDURES.csv')\n",
        "print(\"D_ICD_PROCEDURES.csv loaded\")\n",
        "\n",
        "print()\n",
        "print(\"=\" * 70)\n",
        "print(\"DATASET STATISTICS\")\n",
        "print(\"=\" * 70)\n",
        "print()\n",
        "\n",
        "print(f\"Total Patients: {patients.shape[0]:,}\")\n",
        "print(f\"Total Admissions: {admissions.shape[0]:,}\")\n",
        "print(f\"Total Diagnosis Records: {diagnoses.shape[0]:,}\")\n",
        "print(f\" Total Procedure Records: {procedures.shape[0]:,}\")\n",
        "print(f\"Unique ICD-9 Diagnosis Codes: {d_icd_diagnoses.shape[0]:,}\")\n",
        "print(f\"Unique ICD-9 Procedure Codes: {d_icd_procedures.shape[0]:,}\")\n",
        "\n",
        "print()\n",
        "print(\"All datasets loaded successfully!\")"
      ],
      "metadata": {
        "colab": {
          "base_uri": "https://localhost:8080/"
        },
        "id": "0L9m4nmbMi6D",
        "outputId": "db8417a6-a8d3-478d-ffca-ed3a99bf1c0b"
      },
      "execution_count": 6,
      "outputs": [
        {
          "output_type": "stream",
          "name": "stdout",
          "text": [
            "======================================================================\n",
            "LOADING MIMIC-III DEMO DATA\n",
            "======================================================================\n",
            "\n",
            "Loading datasets...\n",
            "PATIENTS.csv loaded\n",
            "ADMISSIONS.csv loaded\n",
            "DIAGNOSES_ICD.csv loaded\n",
            "PROCEDURES_ICD.csv loaded\n",
            "D_ICD_DIAGNOSES.csv loaded\n",
            "D_ICD_PROCEDURES.csv loaded\n",
            "\n",
            "======================================================================\n",
            "DATASET STATISTICS\n",
            "======================================================================\n",
            "\n",
            "Total Patients: 100\n",
            "Total Admissions: 129\n",
            "Total Diagnosis Records: 1,761\n",
            " Total Procedure Records: 506\n",
            "Unique ICD-9 Diagnosis Codes: 14,567\n",
            "Unique ICD-9 Procedure Codes: 3,882\n",
            "\n",
            "All datasets loaded successfully!\n"
          ]
        }
      ]
    },
    {
      "cell_type": "markdown",
      "source": [
        "**Data Exploration**"
      ],
      "metadata": {
        "id": "WQ_q0ZS6MkQl"
      }
    },
    {
      "cell_type": "code",
      "source": [
        "print(\"=\" * 70)\n",
        "print(\"DATA EXPLORATION\")\n",
        "print(\"=\" * 70)\n",
        "\n",
        "# Look at patients\n",
        "print(\"\\n PATIENT DATA (First 5 rows):\")\n",
        "print(patients.head())\n",
        "\n",
        "print(\"\\n Patient columns:\")\n",
        "print(patients.columns.tolist())\n",
        "\n",
        "# Look at admissions\n",
        "print(\"\\n\\n ADMISSION DATA (First 5 rows):\")\n",
        "print(admissions[['subject_id', 'hadm_id', 'admittime', 'admission_type', 'diagnosis']].head())\n",
        "\n",
        "# Look at diagnoses\n",
        "print(\"\\n\\n DIAGNOSIS DATA (First 5 rows):\")\n",
        "print(diagnoses.head())\n",
        "\n",
        "# Merge diagnoses with descriptions to see actual disease names\n",
        "print(\"\\n\\n DIAGNOSES WITH DESCRIPTIONS (First 10):\")\n",
        "diagnoses_with_desc = diagnoses.merge(\n",
        "    d_icd_diagnoses[['icd9_code', 'short_title', 'long_title']],\n",
        "    on='icd9_code',\n",
        "    how='left'\n",
        ")\n",
        "print(diagnoses_with_desc[['subject_id', 'icd9_code', 'short_title']].head(10))"
      ],
      "metadata": {
        "colab": {
          "base_uri": "https://localhost:8080/"
        },
        "id": "IYGYpK3IMo6b",
        "outputId": "524eb3ee-99e1-455a-86b4-51d18440922d"
      },
      "execution_count": 7,
      "outputs": [
        {
          "output_type": "stream",
          "name": "stdout",
          "text": [
            "======================================================================\n",
            "DATA EXPLORATION\n",
            "======================================================================\n",
            "\n",
            " PATIENT DATA (First 5 rows):\n",
            "   row_id  subject_id gender                  dob                  dod  \\\n",
            "0    9467       10006      F  2094-03-05 00:00:00  2165-08-12 00:00:00   \n",
            "1    9472       10011      F  2090-06-05 00:00:00  2126-08-28 00:00:00   \n",
            "2    9474       10013      F  2038-09-03 00:00:00  2125-10-07 00:00:00   \n",
            "3    9478       10017      F  2075-09-21 00:00:00  2152-09-12 00:00:00   \n",
            "4    9479       10019      M  2114-06-20 00:00:00  2163-05-15 00:00:00   \n",
            "\n",
            "              dod_hosp              dod_ssn  expire_flag  \n",
            "0  2165-08-12 00:00:00  2165-08-12 00:00:00            1  \n",
            "1  2126-08-28 00:00:00                  NaN            1  \n",
            "2  2125-10-07 00:00:00  2125-10-07 00:00:00            1  \n",
            "3                  NaN  2152-09-12 00:00:00            1  \n",
            "4  2163-05-15 00:00:00  2163-05-15 00:00:00            1  \n",
            "\n",
            " Patient columns:\n",
            "['row_id', 'subject_id', 'gender', 'dob', 'dod', 'dod_hosp', 'dod_ssn', 'expire_flag']\n",
            "\n",
            "\n",
            " ADMISSION DATA (First 5 rows):\n",
            "   subject_id  hadm_id            admittime admission_type  \\\n",
            "0       10006   142345  2164-10-23 21:09:00      EMERGENCY   \n",
            "1       10011   105331  2126-08-14 22:32:00      EMERGENCY   \n",
            "2       10013   165520  2125-10-04 23:36:00      EMERGENCY   \n",
            "3       10017   199207  2149-05-26 17:19:00      EMERGENCY   \n",
            "4       10019   177759  2163-05-14 20:43:00      EMERGENCY   \n",
            "\n",
            "             diagnosis  \n",
            "0               SEPSIS  \n",
            "1          HEPATITIS B  \n",
            "2               SEPSIS  \n",
            "3     HUMERAL FRACTURE  \n",
            "4  ALCOHOLIC HEPATITIS  \n",
            "\n",
            "\n",
            " DIAGNOSIS DATA (First 5 rows):\n",
            "   row_id  subject_id  hadm_id  seq_num icd9_code\n",
            "0  112344       10006   142345        1     99591\n",
            "1  112345       10006   142345        2     99662\n",
            "2  112346       10006   142345        3      5672\n",
            "3  112347       10006   142345        4     40391\n",
            "4  112348       10006   142345        5     42731\n",
            "\n",
            "\n",
            " DIAGNOSES WITH DESCRIPTIONS (First 10):\n",
            "   subject_id icd9_code               short_title\n",
            "0       10006     99591                    Sepsis\n",
            "1       10006     99662  React-oth vasc dev/graft\n",
            "2       10006      5672                       NaN\n",
            "3       10006     40391    Hyp kid NOS w cr kid V\n",
            "4       10006     42731       Atrial fibrillation\n",
            "5       10006      4280                   CHF NOS\n",
            "6       10006      4241     Aortic valve disorder\n",
            "7       10006      4240     Mitral valve disorder\n",
            "8       10006      2874                       NaN\n",
            "9       10006     03819  Staphylcocc septicem NEC\n"
          ]
        }
      ]
    },
    {
      "cell_type": "markdown",
      "source": [
        "**Mapping ICD-9 codes to Disease Categories**"
      ],
      "metadata": {
        "id": "MJ4BoE5pMrXr"
      }
    },
    {
      "cell_type": "code",
      "source": [
        "print(\"=\" * 70)\n",
        "print(\"DISEASE CATEGORY MAPPING\")\n",
        "print(\"=\" * 70)\n",
        "\n",
        "# Function to map ICD-9 codes to disease categories\n",
        "def map_to_disease_category(icd9_code):\n",
        "    \"\"\"Map ICD-9 code to clinical disease category\"\"\"\n",
        "    try:\n",
        "        # Remove any decimal points and convert to float\n",
        "        code_str = str(icd9_code).replace('.', '')\n",
        "        code_num = float(code_str)\n",
        "\n",
        "        if 1 <= code_num < 140:\n",
        "            return 'Infectious Diseases'\n",
        "        elif 140 <= code_num < 240:\n",
        "            return 'Neoplasms'\n",
        "        elif 240 <= code_num < 280:\n",
        "            return 'Endocrine/Metabolic'\n",
        "        elif 280 <= code_num < 290:\n",
        "            return 'Blood Diseases'\n",
        "        elif 290 <= code_num < 320:\n",
        "            return 'Mental Disorders'\n",
        "        elif 320 <= code_num < 390:\n",
        "            return 'Nervous System'\n",
        "        elif 390 <= code_num < 460:\n",
        "            return 'Circulatory System'\n",
        "        elif 460 <= code_num < 520:\n",
        "            return 'Respiratory System'\n",
        "        elif 520 <= code_num < 580:\n",
        "            return 'Digestive System'\n",
        "        elif 580 <= code_num < 630:\n",
        "            return 'Genitourinary System'\n",
        "        elif 630 <= code_num < 680:\n",
        "            return 'Pregnancy/Childbirth'\n",
        "        elif 680 <= code_num < 710:\n",
        "            return 'Skin Diseases'\n",
        "        elif 710 <= code_num < 740:\n",
        "            return 'Musculoskeletal'\n",
        "        elif 740 <= code_num < 760:\n",
        "            return 'Congenital Anomalies'\n",
        "        elif 760 <= code_num < 780:\n",
        "            return 'Perinatal Conditions'\n",
        "        elif 780 <= code_num < 800:\n",
        "            return 'Symptoms/Signs'\n",
        "        elif 800 <= code_num < 1000:\n",
        "            return 'Injury/Poisoning'\n",
        "        else:\n",
        "            return 'Other'\n",
        "    except:\n",
        "        # Handle V codes, E codes\n",
        "        code_str = str(icd9_code).upper()\n",
        "        if code_str.startswith('V'):\n",
        "            return 'Health Services'\n",
        "        elif code_str.startswith('E'):\n",
        "            return 'External Causes'\n",
        "        else:\n",
        "            return 'Other'\n",
        "\n",
        "# Apply mapping to all diagnoses\n",
        "print(\"\\n Mapping ICD-9 codes to disease categories...\")\n",
        "diagnoses_with_desc['DISEASE_CATEGORY'] = diagnoses_with_desc['icd9_code'].apply(map_to_disease_category)\n",
        "\n",
        "# Count by category\n",
        "category_counts = diagnoses_with_desc['DISEASE_CATEGORY'].value_counts()\n",
        "\n",
        "print(\"\\n Mapping complete!\")\n",
        "print()\n",
        "print(\"=\" * 70)\n",
        "print(\" DISEASE CATEGORY DISTRIBUTION\")\n",
        "print(\"=\" * 70)\n",
        "print()\n",
        "\n",
        "total_diagnoses = len(diagnoses_with_desc)\n",
        "\n",
        "for category, count in category_counts.items():\n",
        "    percentage = (count / total_diagnoses) * 100\n",
        "    bar = '█' * int(percentage / 2)  # Visual bar\n",
        "    print(f\"{category:25s}: {count:4,} ({percentage:5.1f}%) {bar}\")\n",
        "\n",
        "print()\n",
        "print(f\"Total diagnosis records: {total_diagnoses:,}\")"
      ],
      "metadata": {
        "colab": {
          "base_uri": "https://localhost:8080/"
        },
        "id": "O9nFmT--MxK5",
        "outputId": "bec30e63-ed12-4c55-a5ed-01d97fb880f6"
      },
      "execution_count": 8,
      "outputs": [
        {
          "output_type": "stream",
          "name": "stdout",
          "text": [
            "======================================================================\n",
            "DISEASE CATEGORY MAPPING\n",
            "======================================================================\n",
            "\n",
            " Mapping ICD-9 codes to disease categories...\n",
            "\n",
            " Mapping complete!\n",
            "\n",
            "======================================================================\n",
            " DISEASE CATEGORY DISTRIBUTION\n",
            "======================================================================\n",
            "\n",
            "Other                    : 1,432 ( 81.3%) ████████████████████████████████████████\n",
            "Health Services          :  153 (  8.7%) ████\n",
            "External Causes          :   47 (  2.7%) █\n",
            "Respiratory System       :   40 (  2.3%) █\n",
            "Nervous System           :   30 (  1.7%) \n",
            "Circulatory System       :   20 (  1.1%) \n",
            "Mental Disorders         :   18 (  1.0%) \n",
            "Digestive System         :    7 (  0.4%) \n",
            "Injury/Poisoning         :    7 (  0.4%) \n",
            "Endocrine/Metabolic      :    3 (  0.2%) \n",
            "Musculoskeletal          :    2 (  0.1%) \n",
            "Genitourinary System     :    1 (  0.1%) \n",
            "Neoplasms                :    1 (  0.1%) \n",
            "\n",
            "Total diagnosis records: 1,761\n"
          ]
        }
      ]
    },
    {
      "cell_type": "markdown",
      "source": [
        "**Analyzing what's in 'other' category**"
      ],
      "metadata": {
        "id": "HSPTrKU2M6T7"
      }
    },
    {
      "cell_type": "code",
      "source": [
        "print(\"=\" * 70)\n",
        "print(\"ANALYZING 'OTHER' CATEGORY\")\n",
        "print(\"=\" * 70)\n",
        "\n",
        "# Look at what codes are in \"Other\"\n",
        "other_codes = diagnoses_with_desc[diagnoses_with_desc['DISEASE_CATEGORY'] == 'Other']\n",
        "\n",
        "print(f\"\\n Top 20 diagnoses in 'Other' category:\\n\")\n",
        "top_other = other_codes['short_title'].value_counts().head(20)\n",
        "\n",
        "for idx, (diagnosis, count) in enumerate(top_other.items(), 1):\n",
        "    print(f\"{idx:2d}. {diagnosis:60s} : {count:3,} cases\")\n",
        "\n",
        "print()\n",
        "print(\" These are likely DRG codes or ICU-specific codes\")"
      ],
      "metadata": {
        "colab": {
          "base_uri": "https://localhost:8080/"
        },
        "id": "NpOxdObwNEu4",
        "outputId": "93ced12c-4f24-42b0-b138-8e6eb791a8dc"
      },
      "execution_count": 9,
      "outputs": [
        {
          "output_type": "stream",
          "name": "stdout",
          "text": [
            "======================================================================\n",
            "ANALYZING 'OTHER' CATEGORY\n",
            "======================================================================\n",
            "\n",
            " Top 20 diagnoses in 'Other' category:\n",
            "\n",
            " 1. Hypertension NOS                                             :  53 cases\n",
            " 2. Atrial fibrillation                                          :  48 cases\n",
            " 3. Acute kidney failure NOS                                     :  45 cases\n",
            " 4. CHF NOS                                                      :  39 cases\n",
            " 5. DMII wo cmp nt st uncntr                                     :  31 cases\n",
            " 6. Acute respiratry failure                                     :  31 cases\n",
            " 7. Hyperlipidemia NEC/NOS                                       :  29 cases\n",
            " 8. Urin tract infection NOS                                     :  27 cases\n",
            " 9. Anemia NOS                                                   :  25 cases\n",
            "10. Severe sepsis                                                :  25 cases\n",
            "11. Hypothyroidism NOS                                           :  23 cases\n",
            "12. Crnry athrscl natve vssl                                     :  18 cases\n",
            "13. Hyposmolality                                                :  17 cases\n",
            "14. Hyperosmolality                                              :  17 cases\n",
            "15. Acidosis                                                     :  16 cases\n",
            "16. Septic shock                                                 :  16 cases\n",
            "17. Food/vomit pneumonitis                                       :  16 cases\n",
            "18. Esophageal reflux                                            :  16 cases\n",
            "19. Pressure ulcer, low back                                     :  15 cases\n",
            "20. Neuropathy in diabetes                                       :  13 cases\n",
            "\n",
            " These are likely DRG codes or ICU-specific codes\n"
          ]
        }
      ]
    },
    {
      "cell_type": "markdown",
      "source": [
        "**Focussing on Clinical Categories**"
      ],
      "metadata": {
        "id": "-_eT6MiBNFMd"
      }
    },
    {
      "cell_type": "code",
      "source": [
        "print(\"\\n\" + \"=\" * 70)\n",
        "print(\"CLINICAL DISEASE ANALYSIS (Excluding 'Other')\")\n",
        "print(\"=\" * 70)\n",
        "\n",
        "# Filter out \"Other\" to see real clinical diseases\n",
        "clinical_diagnoses = diagnoses_with_desc[diagnoses_with_desc['DISEASE_CATEGORY'] != 'Other']\n",
        "\n",
        "print(f\"\\n Total clinical diagnoses: {len(clinical_diagnoses):,}\")\n",
        "print(f\"   Unique patients: {clinical_diagnoses['subject_id'].nunique()}\")\n",
        "\n",
        "# Category distribution (excluding Other)\n",
        "clinical_categories = clinical_diagnoses['DISEASE_CATEGORY'].value_counts()\n",
        "\n",
        "print(\"\\n CLINICAL DISEASE DISTRIBUTION:\\n\")\n",
        "for category, count in clinical_categories.items():\n",
        "    percentage = (count / len(clinical_diagnoses)) * 100\n",
        "    print(f\"{category:25s}: {count:3,} ({percentage:5.1f}%)\")\n",
        "\n",
        "# Show actual diseases\n",
        "print(\"\\n\\n TOP 15 ACTUAL DIAGNOSES:\\n\")\n",
        "top_diagnoses = clinical_diagnoses['short_title'].value_counts().head(15)\n",
        "\n",
        "for idx, (diagnosis, count) in enumerate(top_diagnoses.items(), 1):\n",
        "    # Get the category\n",
        "    category = clinical_diagnoses[clinical_diagnoses['short_title'] == diagnosis]['DISEASE_CATEGORY'].iloc[0]\n",
        "    print(f\"{idx:2d}. {diagnosis:50s} [{category:20s}] : {count:2,} cases\")"
      ],
      "metadata": {
        "colab": {
          "base_uri": "https://localhost:8080/"
        },
        "id": "I7Pn3-avNLSp",
        "outputId": "3d34fe3e-3d27-4303-de4a-4e6019bea0fe"
      },
      "execution_count": 10,
      "outputs": [
        {
          "output_type": "stream",
          "name": "stdout",
          "text": [
            "\n",
            "======================================================================\n",
            "CLINICAL DISEASE ANALYSIS (Excluding 'Other')\n",
            "======================================================================\n",
            "\n",
            " Total clinical diagnoses: 329\n",
            "   Unique patients: 87\n",
            "\n",
            " CLINICAL DISEASE DISTRIBUTION:\n",
            "\n",
            "Health Services          : 153 ( 46.5%)\n",
            "External Causes          :  47 ( 14.3%)\n",
            "Respiratory System       :  40 ( 12.2%)\n",
            "Nervous System           :  30 (  9.1%)\n",
            "Circulatory System       :  20 (  6.1%)\n",
            "Mental Disorders         :  18 (  5.5%)\n",
            "Digestive System         :   7 (  2.1%)\n",
            "Injury/Poisoning         :   7 (  2.1%)\n",
            "Endocrine/Metabolic      :   3 (  0.9%)\n",
            "Musculoskeletal          :   2 (  0.6%)\n",
            "Genitourinary System     :   1 (  0.3%)\n",
            "Neoplasms                :   1 (  0.3%)\n",
            "\n",
            "\n",
            " TOP 15 ACTUAL DIAGNOSES:\n",
            "\n",
            " 1. Pneumonia, organism NOS                            [Respiratory System  ] : 26 cases\n",
            " 2. Septicemia NOS                                     [Nervous System      ] : 24 cases\n",
            " 3. Long-term use anticoagul                           [Health Services     ] : 18 cases\n",
            " 4. Depressive disorder NEC                            [Mental Disorders    ] : 16 cases\n",
            " 5. Chr airway obstruct NEC                            [Respiratory System  ] : 11 cases\n",
            " 6. Aortocoronary bypass                               [Health Services     ] :  9 cases\n",
            " 7. Tracheostomy status                                [Health Services     ] :  9 cases\n",
            " 8. Long-term use of insulin                           [Health Services     ] :  8 cases\n",
            " 9. Int inf clstrdium dfcile                           [Injury/Poisoning    ] :  7 cases\n",
            "10. Hx of breast malignancy                            [Health Services     ] :  7 cases\n",
            "11. Hx-ven thrombosis/embols                           [Health Services     ] :  7 cases\n",
            "12. Acute necrosis of liver                            [Digestive System    ] :  6 cases\n",
            "13. Status-post ptca                                   [Health Services     ] :  6 cases\n",
            "14. History of tobacco use                             [Health Services     ] :  6 cases\n",
            "15. Hx of irradiation                                  [Health Services     ] :  4 cases\n"
          ]
        }
      ]
    },
    {
      "cell_type": "markdown",
      "source": [
        "**Creating comprehensive patient dataset**"
      ],
      "metadata": {
        "id": "lCEO7bU-NOm1"
      }
    },
    {
      "cell_type": "code",
      "source": [
        "print(\"=\" * 70)\n",
        "print(\"CREATING PATIENT-LEVEL INTEGRATED DATASET\")\n",
        "print(\"=\" * 70)\n",
        "\n",
        "# Create patient summary with all their diagnoses\n",
        "print(\"\\n Aggregating data by patient...\")\n",
        "\n",
        "# Count diagnoses per patient\n",
        "patient_diag_count = diagnoses_with_desc.groupby('subject_id').agg({\n",
        "    'icd9_code': 'count',\n",
        "    'DISEASE_CATEGORY': lambda x: list(x)\n",
        "}).rename(columns={'icd9_code': 'NUM_DIAGNOSES', 'DISEASE_CATEGORY': 'DISEASE_CATEGORIES'})\n",
        "\n",
        "# Count procedures per patient\n",
        "patient_proc_count = procedures.groupby('subject_id').size().reset_index(name='NUM_PROCEDURES')\n",
        "\n",
        "# Count admissions per patient\n",
        "patient_admit_count = admissions.groupby('subject_id').size().reset_index(name='NUM_ADMISSIONS')\n",
        "\n",
        "# Merge everything\n",
        "patient_comprehensive = patients.copy()\n",
        "patient_comprehensive = patient_comprehensive.merge(patient_diag_count, on='subject_id', how='left')\n",
        "patient_comprehensive = patient_comprehensive.merge(patient_proc_count, on='subject_id', how='left')\n",
        "patient_comprehensive = patient_comprehensive.merge(patient_admit_count, on='subject_id', how='left')\n",
        "\n",
        "# Fill NaN\n",
        "patient_comprehensive['NUM_DIAGNOSES'] = patient_comprehensive['NUM_DIAGNOSES'].fillna(0).astype(int)\n",
        "patient_comprehensive['NUM_PROCEDURES'] = patient_comprehensive['NUM_PROCEDURES'].fillna(0).astype(int)\n",
        "patient_comprehensive['NUM_ADMISSIONS'] = patient_comprehensive['NUM_ADMISSIONS'].fillna(0).astype(int)\n",
        "\n",
        "print(\"\\n Patient-level dataset created!\")\n",
        "print(f\"\\n Dataset shape: {patient_comprehensive.shape}\")\n",
        "print(f\"   Patients: {patient_comprehensive.shape[0]}\")\n",
        "print(f\"   Features: {patient_comprehensive.shape[1]}\")\n",
        "\n",
        "print(\"\\n Sample patient records:\")\n",
        "print(patient_comprehensive[['subject_id', 'gender', 'NUM_DIAGNOSES', 'NUM_PROCEDURES', 'NUM_ADMISSIONS']].head(10))\n",
        "\n",
        "# Statistics\n",
        "print(\"\\n\\n PATIENT STATISTICS:\")\n",
        "print(f\"   Average diagnoses per patient: {patient_comprehensive['NUM_DIAGNOSES'].mean():.1f}\")\n",
        "print(f\"   Average procedures per patient: {patient_comprehensive['NUM_PROCEDURES'].mean():.1f}\")\n",
        "print(f\"   Average admissions per patient: {patient_comprehensive['NUM_ADMISSIONS'].mean():.1f}\")\n",
        "print(f\"   Max diagnoses in one patient: {patient_comprehensive['NUM_DIAGNOSES'].max()}\")\n",
        "print(f\"   Max procedures in one patient: {patient_comprehensive['NUM_PROCEDURES'].max()}\")"
      ],
      "metadata": {
        "colab": {
          "base_uri": "https://localhost:8080/"
        },
        "id": "ezZ5ux5GNWzv",
        "outputId": "bfa8de06-4286-4eb4-d38d-bdb22fb63f1b"
      },
      "execution_count": 11,
      "outputs": [
        {
          "output_type": "stream",
          "name": "stdout",
          "text": [
            "======================================================================\n",
            "CREATING PATIENT-LEVEL INTEGRATED DATASET\n",
            "======================================================================\n",
            "\n",
            " Aggregating data by patient...\n",
            "\n",
            " Patient-level dataset created!\n",
            "\n",
            " Dataset shape: (100, 12)\n",
            "   Patients: 100\n",
            "   Features: 12\n",
            "\n",
            " Sample patient records:\n",
            "   subject_id gender  NUM_DIAGNOSES  NUM_PROCEDURES  NUM_ADMISSIONS\n",
            "0       10006      F             21               7               1\n",
            "1       10011      F              6               2               1\n",
            "2       10013      F              9               1               1\n",
            "3       10017      F             14               2               1\n",
            "4       10019      M             14               4               1\n",
            "5       10026      F              7               0               1\n",
            "6       10027      F             12              12               1\n",
            "7       10029      M             23               8               1\n",
            "8       10032      M              9               4               1\n",
            "9       10033      F             12               0               1\n",
            "\n",
            "\n",
            " PATIENT STATISTICS:\n",
            "   Average diagnoses per patient: 17.6\n",
            "   Average procedures per patient: 5.1\n",
            "   Average admissions per patient: 1.3\n",
            "   Max diagnoses in one patient: 266\n",
            "   Max procedures in one patient: 49\n"
          ]
        }
      ]
    },
    {
      "cell_type": "markdown",
      "source": [
        "**Analysing comorbidity**"
      ],
      "metadata": {
        "id": "fQN0PlseNaId"
      }
    },
    {
      "cell_type": "code",
      "source": [
        "from collections import Counter\n",
        "from itertools import combinations\n",
        "\n",
        "print(\"=\" * 70)\n",
        "print(\"COMORBIDITY PATTERN ANALYSIS\")\n",
        "print(\"=\" * 70)\n",
        "\n",
        "# Identify patients with multiple conditions\n",
        "comorbid_patients = patient_comprehensive[patient_comprehensive['NUM_DIAGNOSES'] >= 3].copy()\n",
        "\n",
        "print(f\"\\n Patients with ≥3 diagnoses (comorbidities): {len(comorbid_patients)} out of {len(patient_comprehensive)}\")\n",
        "print(f\"   Comorbidity rate: {len(comorbid_patients)/len(patient_comprehensive)*100:.1f}%\")\n",
        "\n",
        "# Function to get unique categories per patient\n",
        "def get_unique_categories(categories_list):\n",
        "    \"\"\"Get unique disease categories for a patient\"\"\"\n",
        "    if isinstance(categories_list, list):\n",
        "        # Remove 'Other' and get unique\n",
        "        unique = list(set([cat for cat in categories_list if cat != 'Other']))\n",
        "        return unique\n",
        "    return []\n",
        "\n",
        "# Apply to comorbid patients\n",
        "comorbid_patients['UNIQUE_CATEGORIES'] = comorbid_patients['DISEASE_CATEGORIES'].apply(get_unique_categories)\n",
        "comorbid_patients['NUM_CATEGORIES'] = comorbid_patients['UNIQUE_CATEGORIES'].apply(len)\n",
        "\n",
        "# Show sample comorbidity patterns\n",
        "print(\"\\n🔍 SAMPLE COMORBIDITY PATTERNS (First 10 patients):\\n\")\n",
        "for idx, row in comorbid_patients.head(10).iterrows():\n",
        "    subject_id = row['subject_id']\n",
        "    num_diag = row['NUM_DIAGNOSES']\n",
        "    categories = row['UNIQUE_CATEGORIES']\n",
        "\n",
        "    print(f\"Patient {subject_id}:\")\n",
        "    print(f\"  Total diagnoses: {num_diag}\")\n",
        "    print(f\"  Disease categories: {', '.join(categories) if categories else 'None'}\")\n",
        "    print()\n",
        "\n",
        "# Find most common comorbidity pairs\n",
        "print(\"\\n\" + \"=\" * 70)\n",
        "print(\"TOP COMORBIDITY PAIRS\")\n",
        "print(\"=\" * 70)\n",
        "\n",
        "comorbidity_pairs = []\n",
        "for categories in comorbid_patients['UNIQUE_CATEGORIES']:\n",
        "    if len(categories) >= 2:\n",
        "        # Get all pairs\n",
        "        pairs = list(combinations(sorted(categories), 2))\n",
        "        comorbidity_pairs.extend(pairs)\n",
        "\n",
        "# Count pairs\n",
        "if comorbidity_pairs:\n",
        "    pair_counts = Counter(comorbidity_pairs)\n",
        "    top_pairs = pair_counts.most_common(10)\n",
        "\n",
        "    print(f\"\\n Top 10 Disease Co-occurrences:\\n\")\n",
        "    for idx, (pair, count) in enumerate(top_pairs, 1):\n",
        "        print(f\"{pair[0]:25s} + {pair[1]:25s} : {count:2} patients\")\n",
        "else:\n",
        "    print(\"\\nNo comorbidity pairs found\")"
      ],
      "metadata": {
        "colab": {
          "base_uri": "https://localhost:8080/"
        },
        "id": "ZJ3heKPtNfC1",
        "outputId": "ceb628db-49b5-4274-da8d-6481476fa3d2"
      },
      "execution_count": 12,
      "outputs": [
        {
          "output_type": "stream",
          "name": "stdout",
          "text": [
            "======================================================================\n",
            "COMORBIDITY PATTERN ANALYSIS\n",
            "======================================================================\n",
            "\n",
            " Patients with ≥3 diagnoses (comorbidities): 100 out of 100\n",
            "   Comorbidity rate: 100.0%\n",
            "\n",
            "🔍 SAMPLE COMORBIDITY PATTERNS (First 10 patients):\n",
            "\n",
            "Patient 10006:\n",
            "  Total diagnoses: 21\n",
            "  Disease categories: Health Services, External Causes\n",
            "\n",
            "Patient 10011:\n",
            "  Total diagnoses: 6\n",
            "  Disease categories: Digestive System\n",
            "\n",
            "Patient 10013:\n",
            "  Total diagnoses: 9\n",
            "  Disease categories: Nervous System, Respiratory System\n",
            "\n",
            "Patient 10017:\n",
            "  Total diagnoses: 14\n",
            "  Disease categories: External Causes, Health Services, Respiratory System\n",
            "\n",
            "Patient 10019:\n",
            "  Total diagnoses: 14\n",
            "  Disease categories: Nervous System\n",
            "\n",
            "Patient 10026:\n",
            "  Total diagnoses: 7\n",
            "  Disease categories: Circulatory System, Health Services\n",
            "\n",
            "Patient 10027:\n",
            "  Total diagnoses: 12\n",
            "  Disease categories: None\n",
            "\n",
            "Patient 10029:\n",
            "  Total diagnoses: 23\n",
            "  Disease categories: Circulatory System, Health Services, Nervous System\n",
            "\n",
            "Patient 10032:\n",
            "  Total diagnoses: 9\n",
            "  Disease categories: None\n",
            "\n",
            "Patient 10033:\n",
            "  Total diagnoses: 12\n",
            "  Disease categories: External Causes, Mental Disorders\n",
            "\n",
            "\n",
            "======================================================================\n",
            "TOP COMORBIDITY PAIRS\n",
            "======================================================================\n",
            "\n",
            " Top 10 Disease Co-occurrences:\n",
            "\n",
            "External Causes           + Health Services           : 19 patients\n",
            "Health Services           + Respiratory System        : 18 patients\n",
            "External Causes           + Respiratory System        : 12 patients\n",
            "Circulatory System        + Health Services           : 12 patients\n",
            "Health Services           + Nervous System            : 10 patients\n",
            "Health Services           + Mental Disorders          :  7 patients\n",
            "Nervous System            + Respiratory System        :  6 patients\n",
            "Circulatory System        + Nervous System            :  6 patients\n",
            "Circulatory System        + Respiratory System        :  6 patients\n",
            "External Causes           + Mental Disorders          :  5 patients\n"
          ]
        }
      ]
    },
    {
      "cell_type": "markdown",
      "source": [
        "**Creating Visualization**"
      ],
      "metadata": {
        "id": "stUIzhc0Nfw1"
      }
    },
    {
      "cell_type": "code",
      "source": [
        "import matplotlib.pyplot as plt\n",
        "import seaborn as sns\n",
        "\n",
        "print(\"=\" * 70)\n",
        "print(\"CREATING VISUALIZATIONS\")\n",
        "print(\"=\" * 70)\n",
        "\n",
        "# Set style\n",
        "sns.set_style(\"whitegrid\")\n",
        "\n",
        "# Create figure with multiple subplots\n",
        "fig, axes = plt.subplots(2, 2, figsize=(16, 12))\n",
        "\n",
        "# Plot 1: Disease Category Distribution (excluding Other)\n",
        "clinical_cat_counts = clinical_diagnoses['DISEASE_CATEGORY'].value_counts().head(10)\n",
        "axes[0, 0].barh(range(len(clinical_cat_counts)), clinical_cat_counts.values,\n",
        "                color='steelblue', edgecolor='black', linewidth=1.5)\n",
        "axes[0, 0].set_yticks(range(len(clinical_cat_counts)))\n",
        "axes[0, 0].set_yticklabels(clinical_cat_counts.index, fontsize=10)\n",
        "axes[0, 0].set_xlabel('Number of Diagnoses', fontsize=11, fontweight='bold')\n",
        "axes[0, 0].set_title('Top 10 Disease Categories in MIMIC-III ICU', fontsize=13, fontweight='bold')\n",
        "axes[0, 0].grid(axis='x', alpha=0.3)\n",
        "for i, v in enumerate(clinical_cat_counts.values):\n",
        "    axes[0, 0].text(v + 1, i, str(v), va='center', fontweight='bold')\n",
        "\n",
        "# Plot 2: Diagnoses per Patient Distribution\n",
        "axes[0, 1].hist(patient_comprehensive['NUM_DIAGNOSES'], bins=20,\n",
        "                color='coral', edgecolor='black', alpha=0.7, linewidth=1.5)\n",
        "axes[0, 1].set_xlabel('Number of Diagnoses', fontsize=11, fontweight='bold')\n",
        "axes[0, 1].set_ylabel('Number of Patients', fontsize=11, fontweight='bold')\n",
        "axes[0, 1].set_title('Distribution of Diagnoses per Patient', fontsize=13, fontweight='bold')\n",
        "axes[0, 1].grid(axis='y', alpha=0.3)\n",
        "axes[0, 1].axvline(patient_comprehensive['NUM_DIAGNOSES'].mean(),\n",
        "                   color='red', linestyle='--', linewidth=2, label=f'Mean: {patient_comprehensive[\"NUM_DIAGNOSES\"].mean():.1f}')\n",
        "axes[0, 1].legend()\n",
        "\n",
        "# Plot 3: Procedures per Patient Distribution\n",
        "axes[1, 0].hist(patient_comprehensive['NUM_PROCEDURES'], bins=15,\n",
        "                color='mediumseagreen', edgecolor='black', alpha=0.7, linewidth=1.5)\n",
        "axes[1, 0].set_xlabel('Number of Procedures', fontsize=11, fontweight='bold')\n",
        "axes[1, 0].set_ylabel('Number of Patients', fontsize=11, fontweight='bold')\n",
        "axes[1, 0].set_title('Distribution of Procedures per Patient', fontsize=13, fontweight='bold')\n",
        "axes[1, 0].grid(axis='y', alpha=0.3)\n",
        "axes[1, 0].axvline(patient_comprehensive['NUM_PROCEDURES'].mean(),\n",
        "                   color='red', linestyle='--', linewidth=2, label=f'Mean: {patient_comprehensive[\"NUM_PROCEDURES\"].mean():.1f}')\n",
        "axes[1, 0].legend()\n",
        "\n",
        "# Plot 4: Admissions per Patient\n",
        "axes[1, 1].hist(patient_comprehensive['NUM_ADMISSIONS'], bins=10,\n",
        "                color='mediumpurple', edgecolor='black', alpha=0.7, linewidth=1.5)\n",
        "axes[1, 1].set_xlabel('Number of Admissions', fontsize=11, fontweight='bold')\n",
        "axes[1, 1].set_ylabel('Number of Patients', fontsize=11, fontweight='bold')\n",
        "axes[1, 1].set_title('Distribution of Hospital Admissions per Patient', fontsize=13, fontweight='bold')\n",
        "axes[1, 1].grid(axis='y', alpha=0.3)\n",
        "axes[1, 1].axvline(patient_comprehensive['NUM_ADMISSIONS'].mean(),\n",
        "                   color='red', linestyle='--', linewidth=2, label=f'Mean: {patient_comprehensive[\"NUM_ADMISSIONS\"].mean():.1f}')\n",
        "axes[1, 1].legend()\n",
        "\n",
        "plt.tight_layout()\n",
        "plt.savefig('mimic_data_overview.png', dpi=300, bbox_inches='tight')\n",
        "plt.show()\n",
        "\n",
        "print(\"\\n Saved: mimic_data_overview.png\")"
      ],
      "metadata": {
        "colab": {
          "base_uri": "https://localhost:8080/",
          "height": 865
        },
        "id": "HROzIzdWNj1u",
        "outputId": "786e726c-633b-49d8-ed3e-4f23e9931098"
      },
      "execution_count": 13,
      "outputs": [
        {
          "output_type": "stream",
          "name": "stdout",
          "text": [
            "======================================================================\n",
            "CREATING VISUALIZATIONS\n",
            "======================================================================\n"
          ]
        },
        {
          "output_type": "display_data",
          "data": {
            "text/plain": [
              "<Figure size 1600x1200 with 4 Axes>"
            ],
            "image/png": "[encoded data removed]"
          },
          "metadata": {}
        },
        {
          "output_type": "stream",
          "name": "stdout",
          "text": [
            "\n",
            " Saved: mimic_data_overview.png\n"
          ]
        }
      ]
    },
    {
      "cell_type": "markdown",
      "source": [
        "**Top Diagnosis Visualization**"
      ],
      "metadata": {
        "id": "rjE7nglTNkl_"
      }
    },
    {
      "cell_type": "code",
      "source": [
        "# Visualization 2: Top Diagnoses\n",
        "print(\"\\n Creating top diagnoses visualization...\")\n",
        "\n",
        "plt.figure(figsize=(14, 8))\n",
        "\n",
        "# Get top 15 diagnoses\n",
        "top_15_diagnoses = clinical_diagnoses['short_title'].value_counts().head(15)\n",
        "\n",
        "# Create horizontal bar chart\n",
        "colors = plt.cm.viridis(np.linspace(0.3, 0.9, len(top_15_diagnoses)))\n",
        "bars = plt.barh(range(len(top_15_diagnoses)), top_15_diagnoses.values,\n",
        "                color=colors, edgecolor='black', linewidth=1.5)\n",
        "\n",
        "plt.yticks(range(len(top_15_diagnoses)), top_15_diagnoses.index, fontsize=10)\n",
        "plt.xlabel('Number of Cases', fontsize=12, fontweight='bold')\n",
        "plt.title('Top 15 Diagnoses in MIMIC-III ICU Patients', fontsize=14, fontweight='bold', pad=15)\n",
        "plt.grid(axis='x', alpha=0.3)\n",
        "\n",
        "# Add value labels\n",
        "for i, (bar, value) in enumerate(zip(bars, top_15_diagnoses.values)):\n",
        "    plt.text(value + 0.3, i, str(value), va='center', fontweight='bold', fontsize=10)\n",
        "\n",
        "plt.tight_layout()\n",
        "plt.savefig('top_diagnoses.png', dpi=300, bbox_inches='tight')\n",
        "plt.show()\n",
        "\n",
        "print(\" Saved: top_diagnoses.png\")"
      ],
      "metadata": {
        "colab": {
          "base_uri": "https://localhost:8080/",
          "height": 647
        },
        "id": "6lDWuW9vNsSK",
        "outputId": "a5002baf-8d97-499b-89f0-dcfe4291347f"
      },
      "execution_count": 14,
      "outputs": [
        {
          "output_type": "stream",
          "name": "stdout",
          "text": [
            "\n",
            " Creating top diagnoses visualization...\n"
          ]
        },
        {
          "output_type": "display_data",
          "data": {
            "text/plain": [
              "<Figure size 1400x800 with 1 Axes>"
            ],
            "image/png": "[encoded data removed]"
          },
          "metadata": {}
        },
        {
          "output_type": "stream",
          "name": "stdout",
          "text": [
            " Saved: top_diagnoses.png\n"
          ]
        }
      ]
    },
    {
      "cell_type": "markdown",
      "source": [
        "**Gender & Mortality Analysis**"
      ],
      "metadata": {
        "id": "NmJFCFH7N2gF"
      }
    },
    {
      "cell_type": "code",
      "source": [
        "import matplotlib.pyplot as plt\n",
        "import seaborn as sns\n",
        "\n",
        "print(\"\\n\" + \"=\" * 70)\n",
        "print(\"CREATING VISUALIZATIONS\")\n",
        "print(\"=\" * 70)\n",
        "\n",
        "# Set style\n",
        "sns.set_style(\"whitegrid\")\n",
        "\n",
        "# Create figure with multiple subplots\n",
        "fig, (ax1, ax2) = plt.subplots(1, 2, figsize=(14, 6))\n",
        "\n",
        "# Gender distribution\n",
        "gender_counts = patients['gender'].value_counts()\n",
        "colors_gender = ['lightblue', 'lightpink']\n",
        "wedges, texts, autotexts = ax1.pie(gender_counts.values, labels=gender_counts.index,\n",
        "                                     autopct='%1.1f%%', colors=colors_gender,\n",
        "                                     startangle=90, textprops={'fontsize': 12, 'fontweight': 'bold'})\n",
        "ax1.set_title('Gender Distribution', fontsize=14, fontweight='bold', pad=15)\n",
        "\n",
        "# Mortality status\n",
        "patients['IS_DECEASED'] = patients['dod'].notna()\n",
        "mortality_counts = patients['IS_DECEASED'].value_counts()\n",
        "colors_mortality = ['#51cf66', '#ff6b6b']\n",
        "labels_mortality = ['Alive', 'Deceased']\n",
        "\n",
        "# Check if there is only one unique value in mortality_counts\n",
        "if len(mortality_counts) == 1:\n",
        "    # If only one value, use only one label and color\n",
        "    label = labels_mortality[0] if mortality_counts.index[0] == False else labels_mortality[1]\n",
        "    color = colors_mortality[0] if mortality_counts.index[0] == False else colors_mortality[1]\n",
        "    wedges, texts, autotexts = ax2.pie(mortality_counts.values, labels=[label],\n",
        "                                         autopct='%1.1f%%', colors=[color],\n",
        "                                         startangle=90, textprops={'fontsize': 12, 'fontweight': 'bold'})\n",
        "else:\n",
        "    # If two values, use both labels and colors\n",
        "    wedges, texts, autotexts = ax2.pie(mortality_counts.values, labels=labels_mortality,\n",
        "                                         autopct='%1.1f%%', colors=colors_mortality,\n",
        "                                         startangle=90, textprops={'fontsize': 12, 'fontweight': 'bold'})\n",
        "\n",
        "ax2.set_title('Mortality Status', fontsize=14, fontweight='bold', pad=15)\n",
        "\n",
        "plt.tight_layout()\n",
        "plt.savefig('demographics_mortality.png', dpi=300, bbox_inches='tight')\n",
        "plt.show()\n",
        "\n",
        "print(\" Saved: demographics_mortality.png\")\n",
        "\n",
        "# Print statistics\n",
        "print(\"\\n DEMOGRAPHICS:\")\n",
        "print(f\"   Male: {gender_counts.get('M', 0)} ({gender_counts.get('M', 0)/len(patients)*100:.1f}%)\")\n",
        "print(f\"   Female: {gender_counts.get('F', 0)} ({gender_counts.get('F', 0)/len(patients)*100:.1f}%)\")\n",
        "print(f\"\\n MORTALITY:\")\n",
        "deceased_count = mortality_counts.get(True, 0)\n",
        "alive_count = mortality_counts.get(False, 0)\n",
        "print(f\"   Deceased: {deceased_count} ({deceased_count/len(patients)*100:.1f}%)\")\n",
        "print(f\"   Alive: {alive_count} ({alive_count/len(patients)*100:.1f}%)\")"
      ],
      "metadata": {
        "colab": {
          "base_uri": "https://localhost:8080/",
          "height": 730
        },
        "id": "jO1fOrTMN8gX",
        "outputId": "a926e9f9-efc2-4380-90b4-30c7c8b7196b"
      },
      "execution_count": 15,
      "outputs": [
        {
          "output_type": "stream",
          "name": "stdout",
          "text": [
            "\n",
            "======================================================================\n",
            "CREATING VISUALIZATIONS\n",
            "======================================================================\n"
          ]
        },
        {
          "output_type": "display_data",
          "data": {
            "text/plain": [
              "<Figure size 1400x600 with 2 Axes>"
            ],
            "image/png": "[encoded data removed]"
          },
          "metadata": {}
        },
        {
          "output_type": "stream",
          "name": "stdout",
          "text": [
            " Saved: demographics_mortality.png\n",
            "\n",
            " DEMOGRAPHICS:\n",
            "   Male: 45 (45.0%)\n",
            "   Female: 55 (55.0%)\n",
            "\n",
            " MORTALITY:\n",
            "   Deceased: 100 (100.0%)\n",
            "   Alive: 0 (0.0%)\n"
          ]
        }
      ]
    },
    {
      "cell_type": "markdown",
      "source": [
        "**Comorbidity Visualization**"
      ],
      "metadata": {
        "id": "A2ihfr3kN9a1"
      }
    },
    {
      "cell_type": "code",
      "source": [
        "# Visualization 4: Comorbidity Analysis\n",
        "print(\"\\n Creating comorbidity visualization...\")\n",
        "\n",
        "fig, (ax1, ax2) = plt.subplots(1, 2, figsize=(14, 6))\n",
        "\n",
        "# Comorbidity status pie chart\n",
        "comorbid_count = len(comorbid_patients)\n",
        "non_comorbid_count = len(patient_comprehensive) - comorbid_count\n",
        "labels = [f'Comorbid (≥3 diagnoses)', f'Non-comorbid (<3 diagnoses)']\n",
        "sizes = [comorbid_count, non_comorbid_count]\n",
        "colors = ['#ffd93d', '#6bcf7f']\n",
        "\n",
        "wedges, texts, autotexts = ax1.pie(sizes, labels=labels, autopct='%1.1f%%',\n",
        "                                     colors=colors, startangle=90,\n",
        "                                     textprops={'fontsize': 11, 'fontweight': 'bold'})\n",
        "ax1.set_title('Comorbidity Status', fontsize=14, fontweight='bold', pad=15)\n",
        "\n",
        "# Number of unique disease categories per patient\n",
        "if len(comorbid_patients) > 0:\n",
        "    ax2.hist(comorbid_patients['NUM_CATEGORIES'], bins=range(1, comorbid_patients['NUM_CATEGORIES'].max()+2),\n",
        "             color='orange', edgecolor='black', alpha=0.7, linewidth=1.5)\n",
        "    ax2.set_xlabel('Number of Disease Categories', fontsize=12, fontweight='bold')\n",
        "    ax2.set_ylabel('Number of Patients', fontsize=12, fontweight='bold')\n",
        "    ax2.set_title('Disease Category Diversity in Comorbid Patients', fontsize=13, fontweight='bold')\n",
        "    ax2.grid(axis='y', alpha=0.3)\n",
        "    ax2.axvline(comorbid_patients['NUM_CATEGORIES'].mean(),\n",
        "                color='red', linestyle='--', linewidth=2,\n",
        "                label=f'Mean: {comorbid_patients[\"NUM_CATEGORIES\"].mean():.1f}')\n",
        "    ax2.legend()\n",
        "\n",
        "plt.tight_layout()\n",
        "plt.savefig('comorbidity_analysis.png', dpi=300, bbox_inches='tight')\n",
        "plt.show()\n",
        "\n",
        "print(\" Saved: comorbidity_analysis.png\")"
      ],
      "metadata": {
        "colab": {
          "base_uri": "https://localhost:8080/",
          "height": 528
        },
        "id": "O0NT7yDUODCq",
        "outputId": "84516554-c835-4a2c-faad-009218b776ac"
      },
      "execution_count": 16,
      "outputs": [
        {
          "output_type": "stream",
          "name": "stdout",
          "text": [
            "\n",
            " Creating comorbidity visualization...\n"
          ]
        },
        {
          "output_type": "display_data",
          "data": {
            "text/plain": [
              "<Figure size 1400x600 with 2 Axes>"
            ],
            "image/png": "[encoded data removed]"
          },
          "metadata": {}
        },
        {
          "output_type": "stream",
          "name": "stdout",
          "text": [
            " Saved: comorbidity_analysis.png\n"
          ]
        }
      ]
    },
    {
      "cell_type": "markdown",
      "source": [
        "**Creating ML-ready Dataset**"
      ],
      "metadata": {
        "id": "zUBP7awpODt7"
      }
    },
    {
      "cell_type": "code",
      "source": [
        "print(\"=\" * 70)\n",
        "print(\"CREATING ML-READY STRUCTURED DATASET\")\n",
        "print(\"=\" * 70)\n",
        "\n",
        "# Start with patient comprehensive data\n",
        "ml_dataset = patient_comprehensive.copy()\n",
        "\n",
        "# Add binary flags for top disease categories\n",
        "print(\"\\n Creating disease category features...\")\n",
        "\n",
        "top_categories = clinical_diagnoses['DISEASE_CATEGORY'].value_counts().head(10).index\n",
        "\n",
        "for category in top_categories:\n",
        "    # Create column name\n",
        "    col_name = f\"HAS_{category.upper().replace(' ', '').replace('/', '')}\"\n",
        "\n",
        "    # Check if patient has this category\n",
        "    ml_dataset[col_name] = ml_dataset['DISEASE_CATEGORIES'].apply(\n",
        "        lambda x: 1 if isinstance(x, list) and category in x else 0\n",
        "    )\n",
        "    print(f\"    Created: {col_name}\")\n",
        "\n",
        "# Encode gender\n",
        "ml_dataset['GENDER_ENCODED'] = ml_dataset['gender'].map({'M': 1, 'F': 0})\n",
        "\n",
        "# Create mortality flag\n",
        "ml_dataset['IS_DECEASED'] = ml_dataset['dod'].notna().astype(int)\n",
        "\n",
        "# Calculate age (approximate from DOB)\n",
        "ml_dataset['dob'] = pd.to_datetime(ml_dataset['dob'])\n",
        "ml_dataset['dod'] = pd.to_datetime(ml_dataset['dod'])\n",
        "\n",
        "# For alive patients, calculate age as of 2100 (MIMIC uses year 2100+)\n",
        "current_year = 2100\n",
        "ml_dataset['AGE'] = current_year - ml_dataset['dob'].dt.year\n",
        "\n",
        "# For deceased, calculate age at death\n",
        "deceased_mask = ml_dataset['IS_DECEASED'] == 1\n",
        "ml_dataset.loc[deceased_mask, 'AGE'] = ml_dataset.loc[deceased_mask, 'dod'].dt.year - ml_dataset.loc[deceased_mask, 'dob'].dt.year\n",
        "\n",
        "# Select ML features\n",
        "ml_feature_cols = ['subject_id', 'GENDER_ENCODED', 'AGE', 'NUM_DIAGNOSES',\n",
        "                   'NUM_PROCEDURES', 'NUM_ADMISSIONS', 'IS_DECEASED']\n",
        "ml_feature_cols.extend([col for col in ml_dataset.columns if col.startswith('HAS_')])\n",
        "\n",
        "ml_ready_dataset = ml_dataset[ml_feature_cols].copy()\n",
        "\n",
        "# Remove any rows with missing values\n",
        "ml_ready_dataset = ml_ready_dataset.dropna()\n",
        "\n",
        "print(f\"\\n ML-Ready Dataset Created!\")\n",
        "print(f\"\\n Dataset Information:\")\n",
        "print(f\"   Shape: {ml_ready_dataset.shape}\")\n",
        "print(f\"   Samples: {ml_ready_dataset.shape[0]}\")\n",
        "print(f\"   Features: {ml_ready_dataset.shape[1]}\")\n",
        "\n",
        "print(f\"\\n📋 Feature List:\")\n",
        "feature_list = [col for col in ml_ready_dataset.columns if col != 'subject_id']\n",
        "for i, feat in enumerate(feature_list, 1):\n",
        "    print(f\"   {i:2d}. {feat}\")\n",
        "\n",
        "print(f\"\\n Sample Data (First 5 patients):\")\n",
        "print(ml_ready_dataset.head())\n",
        "\n",
        "print(f\"\\n Target Variable Distribution (IS_DECEASED):\")\n",
        "print(ml_ready_dataset['IS_DECEASED'].value_counts())\n",
        "mortality_rate = ml_ready_dataset['IS_DECEASED'].mean() * 100\n",
        "print(f\"   Mortality Rate: {mortality_rate:.1f}%\")"
      ],
      "metadata": {
        "colab": {
          "base_uri": "https://localhost:8080/"
        },
        "id": "uzY58qk9OJ7o",
        "outputId": "630709b4-27ef-42a8-e6f1-902cbfe815a0"
      },
      "execution_count": 17,
      "outputs": [
        {
          "output_type": "stream",
          "name": "stdout",
          "text": [
            "======================================================================\n",
            "CREATING ML-READY STRUCTURED DATASET\n",
            "======================================================================\n",
            "\n",
            " Creating disease category features...\n",
            "    Created: HAS_HEALTHSERVICES\n",
            "    Created: HAS_EXTERNALCAUSES\n",
            "    Created: HAS_RESPIRATORYSYSTEM\n",
            "    Created: HAS_NERVOUSSYSTEM\n",
            "    Created: HAS_CIRCULATORYSYSTEM\n",
            "    Created: HAS_MENTALDISORDERS\n",
            "    Created: HAS_DIGESTIVESYSTEM\n",
            "    Created: HAS_INJURYPOISONING\n",
            "    Created: HAS_ENDOCRINEMETABOLIC\n",
            "    Created: HAS_MUSCULOSKELETAL\n",
            "\n",
            " ML-Ready Dataset Created!\n",
            "\n",
            " Dataset Information:\n",
            "   Shape: (100, 17)\n",
            "   Samples: 100\n",
            "   Features: 17\n",
            "\n",
            "📋 Feature List:\n",
            "    1. GENDER_ENCODED\n",
            "    2. AGE\n",
            "    3. NUM_DIAGNOSES\n",
            "    4. NUM_PROCEDURES\n",
            "    5. NUM_ADMISSIONS\n",
            "    6. IS_DECEASED\n",
            "    7. HAS_HEALTHSERVICES\n",
            "    8. HAS_EXTERNALCAUSES\n",
            "    9. HAS_RESPIRATORYSYSTEM\n",
            "   10. HAS_NERVOUSSYSTEM\n",
            "   11. HAS_CIRCULATORYSYSTEM\n",
            "   12. HAS_MENTALDISORDERS\n",
            "   13. HAS_DIGESTIVESYSTEM\n",
            "   14. HAS_INJURYPOISONING\n",
            "   15. HAS_ENDOCRINEMETABOLIC\n",
            "   16. HAS_MUSCULOSKELETAL\n",
            "\n",
            " Sample Data (First 5 patients):\n",
            "   subject_id  GENDER_ENCODED  AGE  NUM_DIAGNOSES  NUM_PROCEDURES  \\\n",
            "0       10006               0   71             21               7   \n",
            "1       10011               0   36              6               2   \n",
            "2       10013               0   87              9               1   \n",
            "3       10017               0   77             14               2   \n",
            "4       10019               1   49             14               4   \n",
            "\n",
            "   NUM_ADMISSIONS  IS_DECEASED  HAS_HEALTHSERVICES  HAS_EXTERNALCAUSES  \\\n",
            "0               1            1                   1                   1   \n",
            "1               1            1                   0                   0   \n",
            "2               1            1                   0                   0   \n",
            "3               1            1                   1                   1   \n",
            "4               1            1                   0                   0   \n",
            "\n",
            "   HAS_RESPIRATORYSYSTEM  HAS_NERVOUSSYSTEM  HAS_CIRCULATORYSYSTEM  \\\n",
            "0                      0                  0                      0   \n",
            "1                      0                  0                      0   \n",
            "2                      1                  1                      0   \n",
            "3                      1                  0                      0   \n",
            "4                      0                  1                      0   \n",
            "\n",
            "   HAS_MENTALDISORDERS  HAS_DIGESTIVESYSTEM  HAS_INJURYPOISONING  \\\n",
            "0                    0                    0                    0   \n",
            "1                    0                    1                    0   \n",
            "2                    0                    0                    0   \n",
            "3                    0                    0                    0   \n",
            "4                    0                    0                    0   \n",
            "\n",
            "   HAS_ENDOCRINEMETABOLIC  HAS_MUSCULOSKELETAL  \n",
            "0                       0                    0  \n",
            "1                       0                    0  \n",
            "2                       0                    0  \n",
            "3                       0                    0  \n",
            "4                       0                    0  \n",
            "\n",
            " Target Variable Distribution (IS_DECEASED):\n",
            "IS_DECEASED\n",
            "1    100\n",
            "Name: count, dtype: int64\n",
            "   Mortality Rate: 100.0%\n"
          ]
        }
      ]
    },
    {
      "cell_type": "markdown",
      "source": [
        "**Saving all dataset and create summary**"
      ],
      "metadata": {
        "id": "rM9m2YKhONuV"
      }
    },
    {
      "cell_type": "code",
      "source": [
        "print(\"=\" * 70)\n",
        "print(\"SAVING ALL DATASETS AND REPORTS\")\n",
        "print(\"=\" * 70)\n",
        "\n",
        "# Save ML-ready dataset\n",
        "ml_ready_dataset.to_csv('mimic_ml_ready_dataset.csv', index=False)\n",
        "print(\"\\n Saved: mimic_ml_ready_dataset.csv\")\n",
        "\n",
        "# Save diagnoses with categories\n",
        "diagnoses_with_desc.to_csv('mimic_diagnoses_categorized.csv', index=False)\n",
        "print(\" Saved: mimic_diagnoses_categorized.csv\")\n",
        "\n",
        "# Save patient comprehensive dataset\n",
        "patient_comprehensive.to_csv('mimic_patient_comprehensive.csv', index=False)\n",
        "print(\" Saved: mimic_patient_comprehensive.csv\")\n",
        "\n",
        "# Create comprehensive summary report\n",
        "summary_report = f\"\"\"\n",
        "{'='*70}\n",
        "MIMIC-III EHR DATA CURATION PROJECT - FINAL REPORT\n",
        "{'='*70}\n",
        "\n",
        "PROJECT OVERVIEW:\n",
        "  Curated and structured electronic health record data from MIMIC-III\n",
        "  Critical Care Database demo for downstream machine learning applications.\n",
        "\n",
        "DATASET PROCESSED:\n",
        "  • Total Patients: {len(patients)}\n",
        "  • Total Hospital Admissions: {len(admissions)}\n",
        "  • Total Diagnosis Records: {len(diagnoses)}\n",
        "  • Total Procedure Records: {len(procedures)}\n",
        "  • Unique ICD-9 Diagnosis Codes Available: {len(d_icd_diagnoses):,}\n",
        "  • Unique ICD-9 Procedure Codes Available: {len(d_icd_procedures):,}\n",
        "\n",
        "DISEASE CLASSIFICATION:\n",
        "  • Clinical Diagnoses (excluding 'Other'): {len(clinical_diagnoses)}\n",
        "  • Disease Categories Identified: {clinical_diagnoses['DISEASE_CATEGORY'].nunique()}\n",
        "  • Top Category: {clinical_categories.index[0]} ({clinical_categories.values[0]} cases)\n",
        "\n",
        "  Top 5 Disease Categories:\n",
        "{chr(10).join([f'    {i+1}. {cat}: {count} cases' for i, (cat, count) in enumerate(clinical_categories.head(5).items())])}\n",
        "\n",
        "TOP DIAGNOSES:\n",
        "{chr(10).join([f'  {i+1}. {diag}: {count} cases' for i, (diag, count) in enumerate(top_diagnoses.head(10).items())])}\n",
        "\n",
        "PATIENT STATISTICS:\n",
        "  • Average Diagnoses per Patient: {patient_comprehensive['NUM_DIAGNOSES'].mean():.1f}\n",
        "  • Average Procedures per Patient: {patient_comprehensive['NUM_PROCEDURES'].mean():.1f}\n",
        "  • Average Admissions per Patient: {patient_comprehensive['NUM_ADMISSIONS'].mean():.1f}\n",
        "  • Max Diagnoses (single patient): {patient_comprehensive['NUM_DIAGNOSES'].max()}\n",
        "  • Max Procedures (single patient): {patient_comprehensive['NUM_PROCEDURES'].max()}\n",
        "\n",
        "COMORBIDITY ANALYSIS:\n",
        "  • Patients with ≥3 Diagnoses: {len(comorbid_patients)} ({len(comorbid_patients)/len(patient_comprehensive)*100:.1f}%)\n",
        "  • Average Disease Categories per Comorbid Patient: {comorbid_patients['NUM_CATEGORIES'].mean():.1f}\n",
        "\n",
        "DEMOGRAPHICS:\n",
        "  • Male: {gender_counts.get('M', 0)} ({gender_counts.get('M', 0)/len(patients)*100:.1f}%)\n",
        "  • Female: {gender_counts.get('F', 0)} ({gender_counts.get('F', 0)/len(patients)*100:.1f}%)\n",
        "\n",
        "OUTCOMES:\n",
        "  • Mortality Rate: {mortality_rate:.1f}%\n",
        "  • Deceased Patients: {deceased_count}\n",
        "  • Alive Patients: {alive_count}\n",
        "\n",
        "ML-READY DATASET:\n",
        "  • Final Dataset Shape: {ml_ready_dataset.shape}\n",
        "  • Number of Features: {ml_ready_dataset.shape[1] - 1} (excluding SUBJECT_ID)\n",
        "  • Number of Samples: {ml_ready_dataset.shape[0]}\n",
        "  • Target Variable: IS_DECEASED (Binary: 0=Alive, 1=Deceased)\n",
        "\n",
        "FEATURES ENGINEERED:\n",
        "  1. Demographic: GENDER_ENCODED, AGE\n",
        "  2. Clinical Utilization: NUM_DIAGNOSES, NUM_PROCEDURES, NUM_ADMISSIONS\n",
        "  3. Disease Category Flags: {len([col for col in ml_ready_dataset.columns if col.startswith('HAS_')])} binary indicators\n",
        "  4. Outcome: IS_DECEASED\n",
        "\n",
        "MACHINE LEARNING APPLICATIONS:\n",
        "  • Mortality Risk Prediction\n",
        "  • Hospital Readmission Prediction\n",
        "  • Length of Stay Prediction\n",
        "  • Comorbidity Pattern Recognition\n",
        "  • ICU Resource Utilization Forecasting\n",
        "\n",
        "TECHNICAL APPROACH:\n",
        "  • Multi-table relational data integration (SQL-like JOINs)\n",
        "  • Hierarchical disease classification (ICD-9 chapter-based)\n",
        "  • Feature engineering for tabular ML models\n",
        "  • Clinical code standardization and mapping\n",
        "  • Comorbidity pattern analysis\n",
        "\n",
        "DELIVERABLES:\n",
        "  1. mimic_ml_ready_dataset.csv - Structured dataset for ML modeling\n",
        "  2. mimic_diagnoses_categorized.csv - All diagnoses with category labels\n",
        "  3. mimic_patient_comprehensive.csv - Complete patient-level dataset\n",
        "  4. mimic_data_overview.png - Data distribution visualizations\n",
        "  5. top_diagnoses.png - Most common ICU diagnoses\n",
        "  6. demographics_mortality.png - Patient demographics and outcomes\n",
        "  7. comorbidity_analysis.png - Comorbidity patterns\n",
        "  8. This comprehensive report\n",
        "\n",
        "CLINICAL INSIGHTS:\n",
        "  • ICU patients show high disease complexity (avg {patient_comprehensive['NUM_DIAGNOSES'].mean():.1f} diagnoses)\n",
        "  • Respiratory and sepsis-related conditions dominate critical care admissions\n",
        "  • {len(comorbid_patients)/len(patient_comprehensive)*100:.1f}% of patients have multiple comorbid conditions\n",
        "  • High procedure utilization reflects intensive care interventions\n",
        "\n",
        "DATA QUALITY:\n",
        "  • Complete case analysis performed\n",
        "  • Missing values handled appropriately\n",
        "  • Standardized disease categorization applied\n",
        "  • ML-ready format with no missing values in final dataset\n",
        "\n",
        "NEXT STEPS FOR ML MODELING:\n",
        "  1. Train classification models for mortality prediction\n",
        "  2. Develop readmission risk models\n",
        "  3. Build clustering models for patient stratification\n",
        "  4. Create survival analysis models\n",
        "  5. Validate on full MIMIC-III dataset (40,000+ patients)\n",
        "\n",
        "{'='*70}\n",
        "PROJECT COMPLETED SUCCESSFULLY\n",
        "{'='*70}\n",
        "\n",
        "Author: [Your Name], MBBS\n",
        "Date: {pd.Timestamp.now().strftime('%Y-%m-%d')}\n",
        "Dataset: MIMIC-III Clinical Database Demo v1.4\n",
        "\"\"\"\n",
        "\n",
        "# Save report\n",
        "with open('mimic_project_report.txt', 'w') as f:\n",
        "    f.write(summary_report)\n",
        "\n",
        "print(\" Saved: mimic_project_report.txt\")\n",
        "\n",
        "print(\"\\n\" + \"=\" * 70)\n",
        "print(\" SUMMARY STATISTICS\")\n",
        "print(\"=\" * 70)\n",
        "print(summary_report)"
      ],
      "metadata": {
        "colab": {
          "base_uri": "https://localhost:8080/"
        },
        "id": "1YDIl5AiOTnL",
        "outputId": "eb26e6b2-f599-4e34-a4c6-0a6e39abd43f"
      },
      "execution_count": 18,
      "outputs": [
        {
          "output_type": "stream",
          "name": "stdout",
          "text": [
            "======================================================================\n",
            "SAVING ALL DATASETS AND REPORTS\n",
            "======================================================================\n",
            "\n",
            " Saved: mimic_ml_ready_dataset.csv\n",
            " Saved: mimic_diagnoses_categorized.csv\n",
            " Saved: mimic_patient_comprehensive.csv\n",
            " Saved: mimic_project_report.txt\n",
            "\n",
            "======================================================================\n",
            " SUMMARY STATISTICS\n",
            "======================================================================\n",
            "\n",
            "======================================================================\n",
            "MIMIC-III EHR DATA CURATION PROJECT - FINAL REPORT\n",
            "======================================================================\n",
            "\n",
            "PROJECT OVERVIEW:\n",
            "  Curated and structured electronic health record data from MIMIC-III\n",
            "  Critical Care Database demo for downstream machine learning applications.\n",
            "\n",
            "DATASET PROCESSED:\n",
            "  • Total Patients: 100\n",
            "  • Total Hospital Admissions: 129\n",
            "  • Total Diagnosis Records: 1761\n",
            "  • Total Procedure Records: 506\n",
            "  • Unique ICD-9 Diagnosis Codes Available: 14,567\n",
            "  • Unique ICD-9 Procedure Codes Available: 3,882\n",
            "\n",
            "DISEASE CLASSIFICATION:\n",
            "  • Clinical Diagnoses (excluding 'Other'): 329\n",
            "  • Disease Categories Identified: 12\n",
            "  • Top Category: Health Services (153 cases)\n",
            "\n",
            "  Top 5 Disease Categories:\n",
            "    1. Health Services: 153 cases\n",
            "    2. External Causes: 47 cases\n",
            "    3. Respiratory System: 40 cases\n",
            "    4. Nervous System: 30 cases\n",
            "    5. Circulatory System: 20 cases\n",
            "\n",
            "TOP DIAGNOSES:\n",
            "  1. Pneumonia, organism NOS: 26 cases\n",
            "  2. Septicemia NOS: 24 cases\n",
            "  3. Long-term use anticoagul: 18 cases\n",
            "  4. Depressive disorder NEC: 16 cases\n",
            "  5. Chr airway obstruct NEC: 11 cases\n",
            "  6. Aortocoronary bypass: 9 cases\n",
            "  7. Tracheostomy status: 9 cases\n",
            "  8. Long-term use of insulin: 8 cases\n",
            "  9. Int inf clstrdium dfcile: 7 cases\n",
            "  10. Hx of breast malignancy: 7 cases\n",
            "\n",
            "PATIENT STATISTICS:\n",
            "  • Average Diagnoses per Patient: 17.6\n",
            "  • Average Procedures per Patient: 5.1\n",
            "  • Average Admissions per Patient: 1.3\n",
            "  • Max Diagnoses (single patient): 266\n",
            "  • Max Procedures (single patient): 49\n",
            "\n",
            "COMORBIDITY ANALYSIS:\n",
            "  • Patients with ≥3 Diagnoses: 100 (100.0%)\n",
            "  • Average Disease Categories per Comorbid Patient: 1.8\n",
            "\n",
            "DEMOGRAPHICS:\n",
            "  • Male: 45 (45.0%)\n",
            "  • Female: 55 (55.0%)\n",
            "\n",
            "OUTCOMES:\n",
            "  • Mortality Rate: 100.0%\n",
            "  • Deceased Patients: 100\n",
            "  • Alive Patients: 0\n",
            "\n",
            "ML-READY DATASET:\n",
            "  • Final Dataset Shape: (100, 17)\n",
            "  • Number of Features: 16 (excluding SUBJECT_ID)\n",
            "  • Number of Samples: 100\n",
            "  • Target Variable: IS_DECEASED (Binary: 0=Alive, 1=Deceased)\n",
            "\n",
            "FEATURES ENGINEERED:\n",
            "  1. Demographic: GENDER_ENCODED, AGE\n",
            "  2. Clinical Utilization: NUM_DIAGNOSES, NUM_PROCEDURES, NUM_ADMISSIONS\n",
            "  3. Disease Category Flags: 10 binary indicators\n",
            "  4. Outcome: IS_DECEASED\n",
            "\n",
            "MACHINE LEARNING APPLICATIONS:\n",
            "  • Mortality Risk Prediction\n",
            "  • Hospital Readmission Prediction\n",
            "  • Length of Stay Prediction\n",
            "  • Comorbidity Pattern Recognition\n",
            "  • ICU Resource Utilization Forecasting\n",
            "\n",
            "TECHNICAL APPROACH:\n",
            "  • Multi-table relational data integration (SQL-like JOINs)\n",
            "  • Hierarchical disease classification (ICD-9 chapter-based)\n",
            "  • Feature engineering for tabular ML models\n",
            "  • Clinical code standardization and mapping\n",
            "  • Comorbidity pattern analysis\n",
            "\n",
            "DELIVERABLES:\n",
            "  1. mimic_ml_ready_dataset.csv - Structured dataset for ML modeling\n",
            "  2. mimic_diagnoses_categorized.csv - All diagnoses with category labels\n",
            "  3. mimic_patient_comprehensive.csv - Complete patient-level dataset\n",
            "  4. mimic_data_overview.png - Data distribution visualizations\n",
            "  5. top_diagnoses.png - Most common ICU diagnoses\n",
            "  6. demographics_mortality.png - Patient demographics and outcomes\n",
            "  7. comorbidity_analysis.png - Comorbidity patterns\n",
            "  8. This comprehensive report\n",
            "\n",
            "CLINICAL INSIGHTS:\n",
            "  • ICU patients show high disease complexity (avg 17.6 diagnoses)\n",
            "  • Respiratory and sepsis-related conditions dominate critical care admissions\n",
            "  • 100.0% of patients have multiple comorbid conditions\n",
            "  • High procedure utilization reflects intensive care interventions\n",
            "\n",
            "DATA QUALITY:\n",
            "  • Complete case analysis performed\n",
            "  • Missing values handled appropriately\n",
            "  • Standardized disease categorization applied\n",
            "  • ML-ready format with no missing values in final dataset\n",
            "\n",
            "NEXT STEPS FOR ML MODELING:\n",
            "  1. Train classification models for mortality prediction\n",
            "  2. Develop readmission risk models\n",
            "  3. Build clustering models for patient stratification\n",
            "  4. Create survival analysis models\n",
            "  5. Validate on full MIMIC-III dataset (40,000+ patients)\n",
            "\n",
            "======================================================================\n",
            "PROJECT COMPLETED SUCCESSFULLY\n",
            "======================================================================\n",
            "\n",
            "Author: [Your Name], MBBS\n",
            "Date: 2025-10-29\n",
            "Dataset: MIMIC-III Clinical Database Demo v1.4\n",
            "\n"
          ]
        }
      ]
    },
    {
      "cell_type": "markdown",
      "source": [
        "**Downloading the files**"
      ],
      "metadata": {
        "id": "L-9lpp-tOXWp"
      }
    },
    {
      "cell_type": "code",
      "source": [
        "from google.colab import files\n",
        "\n",
        "print(\"=\" * 70)\n",
        "print(\" DOWNLOADING ALL PROJECT FILES\")\n",
        "print(\"=\" * 70)\n",
        "print(\"\\n Please wait... Multiple downloads will start...\")\n",
        "print(\"(Click 'Save' for each file that pops up)\\n\")\n",
        "\n",
        "files_to_download = [\n",
        "    'mimic_ml_ready_dataset.csv',\n",
        "    'mimic_diagnoses_categorized.csv',\n",
        "    'mimic_patient_comprehensive.csv',\n",
        "    'mimic_data_overview.png',\n",
        "    'top_diagnoses.png',\n",
        "    'demographics_mortality.png',\n",
        "    'comorbidity_analysis.png',\n",
        "    'mimic_project_report.txt'\n",
        "]\n",
        "\n",
        "for filename in files_to_download:\n",
        "    try:\n",
        "        files.download(filename)\n",
        "        print(f\" Downloaded: {filename}\")\n",
        "    except Exception as e:\n",
        "        print(f\" Could not download {filename}: {str(e)}\")\n",
        "\n",
        "print(\"\\n\" + \"=\" * 70)\n",
        "print(\" ALL FILES DOWNLOADED!\")\n",
        "print(\"=\" * 70)\n",
        "print(\"\\n Files you should have:\")\n",
        "for i, f in enumerate(files_to_download, 1):\n",
        "    print(f\"  {i}. {f}\")"
      ],
      "metadata": {
        "colab": {
          "base_uri": "https://localhost:8080/",
          "height": 520
        },
        "id": "3txt8JgjOarh",
        "outputId": "ac948d1a-0e25-470b-f425-3d92400c0295"
      },
      "execution_count": 19,
      "outputs": [
        {
          "output_type": "stream",
          "name": "stdout",
          "text": [
            "======================================================================\n",
            " DOWNLOADING ALL PROJECT FILES\n",
            "======================================================================\n",
            "\n",
            " Please wait... Multiple downloads will start...\n",
            "(Click 'Save' for each file that pops up)\n",
            "\n"
          ]
        },
        {
          "output_type": "display_data",
          "data": {
            "text/plain": [
              "<IPython.core.display.Javascript object>"
            ],
            "application/javascript": [
              "\n",
              "    async function download(id, filename, size) {\n",
              "      if (!google.colab.kernel.accessAllowed) {\n",
              "        return;\n",
              "      }\n",
              "      const div = document.createElement('div');\n",
              "      const label = document.createElement('label');\n",
              "      label.textContent = `Downloading \"${filename}\": `;\n",
              "      div.appendChild(label);\n",
              "      const progress = document.createElement('progress');\n",
              "      progress.max = size;\n",
              "      div.appendChild(progress);\n",
              "      document.body.appendChild(div);\n",
              "\n",
              "      const buffers = [];\n",
              "      let downloaded = 0;\n",
              "\n",
              "      const channel = await google.colab.kernel.comms.open(id);\n",
              "      // Send a message to notify the kernel that we're ready.\n",
              "      channel.send({})\n",
              "\n",
              "      for await (const message of channel.messages) {\n",
              "        // Send a message to notify the kernel that we're ready.\n",
              "        channel.send({})\n",
              "        if (message.buffers) {\n",
              "          for (const buffer of message.buffers) {\n",
              "            buffers.push(buffer);\n",
              "            downloaded += buffer.byteLength;\n",
              "            progress.value = downloaded;\n",
              "          }\n",
              "        }\n",
              "      }\n",
              "      const blob = new Blob(buffers, {type: 'application/binary'});\n",
              "      const a = document.createElement('a');\n",
              "      a.href = window.URL.createObjectURL(blob);\n",
              "      a.download = filename;\n",
              "      div.appendChild(a);\n",
              "      a.click();\n",
              "      div.remove();\n",
              "    }\n",
              "  "
            ]
          },
          "metadata": {}
        },
        {
          "output_type": "display_data",
          "data": {
            "text/plain": [
              "<IPython.core.display.Javascript object>"
            ],
            "application/javascript": [
              "download(\"download_2ba57b06-d660-44f8-a7ec-0242a88303a3\", \"mimic_ml_ready_dataset.csv\", 4282)"
            ]
          },
          "metadata": {}
        },
        {
          "output_type": "stream",
          "name": "stdout",
          "text": [
            " Downloaded: mimic_ml_ready_dataset.csv\n"
          ]
        },
        {
          "output_type": "display_data",
          "data": {
            "text/plain": [
              "<IPython.core.display.Javascript object>"
            ],
            "application/javascript": [
              "\n",
              "    async function download(id, filename, size) {\n",
              "      if (!google.colab.kernel.accessAllowed) {\n",
              "        return;\n",
              "      }\n",
              "      const div = document.createElement('div');\n",
              "      const label = document.createElement('label');\n",
              "      label.textContent = `Downloading \"${filename}\": `;\n",
              "      div.appendChild(label);\n",
              "      const progress = document.createElement('progress');\n",
              "      progress.max = size;\n",
              "      div.appendChild(progress);\n",
              "      document.body.appendChild(div);\n",
              "\n",
              "      const buffers = [];\n",
              "      let downloaded = 0;\n",
              "\n",
              "      const channel = await google.colab.kernel.comms.open(id);\n",
              "      // Send a message to notify the kernel that we're ready.\n",
              "      channel.send({})\n",
              "\n",
              "      for await (const message of channel.messages) {\n",
              "        // Send a message to notify the kernel that we're ready.\n",
              "        channel.send({})\n",
              "        if (message.buffers) {\n",
              "          for (const buffer of message.buffers) {\n",
              "            buffers.push(buffer);\n",
              "            downloaded += buffer.byteLength;\n",
              "            progress.value = downloaded;\n",
              "          }\n",
              "        }\n",
              "      }\n",
              "      const blob = new Blob(buffers, {type: 'application/binary'});\n",
              "      const a = document.createElement('a');\n",
              "      a.href = window.URL.createObjectURL(blob);\n",
              "      a.download = filename;\n",
              "      div.appendChild(a);\n",
              "      a.click();\n",
              "      div.remove();\n",
              "    }\n",
              "  "
            ]
          },
          "metadata": {}
        },
        {
          "output_type": "display_data",
          "data": {
            "text/plain": [
              "<IPython.core.display.Javascript object>"
            ],
            "application/javascript": [
              "download(\"download_e869012f-bd1e-4413-a708-593576aee534\", \"mimic_diagnoses_categorized.csv\", 171818)"
            ]
          },
          "metadata": {}
        },
        {
          "output_type": "stream",
          "name": "stdout",
          "text": [
            " Downloaded: mimic_diagnoses_categorized.csv\n"
          ]
        },
        {
          "output_type": "display_data",
          "data": {
            "text/plain": [
              "<IPython.core.display.Javascript object>"
            ],
            "application/javascript": [
              "\n",
              "    async function download(id, filename, size) {\n",
              "      if (!google.colab.kernel.accessAllowed) {\n",
              "        return;\n",
              "      }\n",
              "      const div = document.createElement('div');\n",
              "      const label = document.createElement('label');\n",
              "      label.textContent = `Downloading \"${filename}\": `;\n",
              "      div.appendChild(label);\n",
              "      const progress = document.createElement('progress');\n",
              "      progress.max = size;\n",
              "      div.appendChild(progress);\n",
              "      document.body.appendChild(div);\n",
              "\n",
              "      const buffers = [];\n",
              "      let downloaded = 0;\n",
              "\n",
              "      const channel = await google.colab.kernel.comms.open(id);\n",
              "      // Send a message to notify the kernel that we're ready.\n",
              "      channel.send({})\n",
              "\n",
              "      for await (const message of channel.messages) {\n",
              "        // Send a message to notify the kernel that we're ready.\n",
              "        channel.send({})\n",
              "        if (message.buffers) {\n",
              "          for (const buffer of message.buffers) {\n",
              "            buffers.push(buffer);\n",
              "            downloaded += buffer.byteLength;\n",
              "            progress.value = downloaded;\n",
              "          }\n",
              "        }\n",
              "      }\n",
              "      const blob = new Blob(buffers, {type: 'application/binary'});\n",
              "      const a = document.createElement('a');\n",
              "      a.href = window.URL.createObjectURL(blob);\n",
              "      a.download = filename;\n",
              "      div.appendChild(a);\n",
              "      a.click();\n",
              "      div.remove();\n",
              "    }\n",
              "  "
            ]
          },
          "metadata": {}
        },
        {
          "output_type": "display_data",
          "data": {
            "text/plain": [
              "<IPython.core.display.Javascript object>"
            ],
            "application/javascript": [
              "download(\"download_cec42436-8b42-496d-9522-e87b1ff187b8\", \"mimic_patient_comprehensive.csv\", 28985)"
            ]
          },
          "metadata": {}
        },
        {
          "output_type": "stream",
          "name": "stdout",
          "text": [
            " Downloaded: mimic_patient_comprehensive.csv\n"
          ]
        },
        {
          "output_type": "display_data",
          "data": {
            "text/plain": [
              "<IPython.core.display.Javascript object>"
            ],
            "application/javascript": [
              "\n",
              "    async function download(id, filename, size) {\n",
              "      if (!google.colab.kernel.accessAllowed) {\n",
              "        return;\n",
              "      }\n",
              "      const div = document.createElement('div');\n",
              "      const label = document.createElement('label');\n",
              "      label.textContent = `Downloading \"${filename}\": `;\n",
              "      div.appendChild(label);\n",
              "      const progress = document.createElement('progress');\n",
              "      progress.max = size;\n",
              "      div.appendChild(progress);\n",
              "      document.body.appendChild(div);\n",
              "\n",
              "      const buffers = [];\n",
              "      let downloaded = 0;\n",
              "\n",
              "      const channel = await google.colab.kernel.comms.open(id);\n",
              "      // Send a message to notify the kernel that we're ready.\n",
              "      channel.send({})\n",
              "\n",
              "      for await (const message of channel.messages) {\n",
              "        // Send a message to notify the kernel that we're ready.\n",
              "        channel.send({})\n",
              "        if (message.buffers) {\n",
              "          for (const buffer of message.buffers) {\n",
              "            buffers.push(buffer);\n",
              "            downloaded += buffer.byteLength;\n",
              "            progress.value = downloaded;\n",
              "          }\n",
              "        }\n",
              "      }\n",
              "      const blob = new Blob(buffers, {type: 'application/binary'});\n",
              "      const a = document.createElement('a');\n",
              "      a.href = window.URL.createObjectURL(blob);\n",
              "      a.download = filename;\n",
              "      div.appendChild(a);\n",
              "      a.click();\n",
              "      div.remove();\n",
              "    }\n",
              "  "
            ]
          },
          "metadata": {}
        },
        {
          "output_type": "display_data",
          "data": {
            "text/plain": [
              "<IPython.core.display.Javascript object>"
            ],
            "application/javascript": [
              "download(\"download_d032beef-1773-4444-a35f-6b7c20725d18\", \"mimic_data_overview.png\", 397734)"
            ]
          },
          "metadata": {}
        },
        {
          "output_type": "stream",
          "name": "stdout",
          "text": [
            " Downloaded: mimic_data_overview.png\n"
          ]
        },
        {
          "output_type": "display_data",
          "data": {
            "text/plain": [
              "<IPython.core.display.Javascript object>"
            ],
            "application/javascript": [
              "\n",
              "    async function download(id, filename, size) {\n",
              "      if (!google.colab.kernel.accessAllowed) {\n",
              "        return;\n",
              "      }\n",
              "      const div = document.createElement('div');\n",
              "      const label = document.createElement('label');\n",
              "      label.textContent = `Downloading \"${filename}\": `;\n",
              "      div.appendChild(label);\n",
              "      const progress = document.createElement('progress');\n",
              "      progress.max = size;\n",
              "      div.appendChild(progress);\n",
              "      document.body.appendChild(div);\n",
              "\n",
              "      const buffers = [];\n",
              "      let downloaded = 0;\n",
              "\n",
              "      const channel = await google.colab.kernel.comms.open(id);\n",
              "      // Send a message to notify the kernel that we're ready.\n",
              "      channel.send({})\n",
              "\n",
              "      for await (const message of channel.messages) {\n",
              "        // Send a message to notify the kernel that we're ready.\n",
              "        channel.send({})\n",
              "        if (message.buffers) {\n",
              "          for (const buffer of message.buffers) {\n",
              "            buffers.push(buffer);\n",
              "            downloaded += buffer.byteLength;\n",
              "            progress.value = downloaded;\n",
              "          }\n",
              "        }\n",
              "      }\n",
              "      const blob = new Blob(buffers, {type: 'application/binary'});\n",
              "      const a = document.createElement('a');\n",
              "      a.href = window.URL.createObjectURL(blob);\n",
              "      a.download = filename;\n",
              "      div.appendChild(a);\n",
              "      a.click();\n",
              "      div.remove();\n",
              "    }\n",
              "  "
            ]
          },
          "metadata": {}
        },
        {
          "output_type": "display_data",
          "data": {
            "text/plain": [
              "<IPython.core.display.Javascript object>"
            ],
            "application/javascript": [
              "download(\"download_6349e3a5-e73b-4817-9e9f-b38c9113bb0a\", \"top_diagnoses.png\", 261589)"
            ]
          },
          "metadata": {}
        },
        {
          "output_type": "stream",
          "name": "stdout",
          "text": [
            " Downloaded: top_diagnoses.png\n"
          ]
        },
        {
          "output_type": "display_data",
          "data": {
            "text/plain": [
              "<IPython.core.display.Javascript object>"
            ],
            "application/javascript": [
              "\n",
              "    async function download(id, filename, size) {\n",
              "      if (!google.colab.kernel.accessAllowed) {\n",
              "        return;\n",
              "      }\n",
              "      const div = document.createElement('div');\n",
              "      const label = document.createElement('label');\n",
              "      label.textContent = `Downloading \"${filename}\": `;\n",
              "      div.appendChild(label);\n",
              "      const progress = document.createElement('progress');\n",
              "      progress.max = size;\n",
              "      div.appendChild(progress);\n",
              "      document.body.appendChild(div);\n",
              "\n",
              "      const buffers = [];\n",
              "      let downloaded = 0;\n",
              "\n",
              "      const channel = await google.colab.kernel.comms.open(id);\n",
              "      // Send a message to notify the kernel that we're ready.\n",
              "      channel.send({})\n",
              "\n",
              "      for await (const message of channel.messages) {\n",
              "        // Send a message to notify the kernel that we're ready.\n",
              "        channel.send({})\n",
              "        if (message.buffers) {\n",
              "          for (const buffer of message.buffers) {\n",
              "            buffers.push(buffer);\n",
              "            downloaded += buffer.byteLength;\n",
              "            progress.value = downloaded;\n",
              "          }\n",
              "        }\n",
              "      }\n",
              "      const blob = new Blob(buffers, {type: 'application/binary'});\n",
              "      const a = document.createElement('a');\n",
              "      a.href = window.URL.createObjectURL(blob);\n",
              "      a.download = filename;\n",
              "      div.appendChild(a);\n",
              "      a.click();\n",
              "      div.remove();\n",
              "    }\n",
              "  "
            ]
          },
          "metadata": {}
        },
        {
          "output_type": "display_data",
          "data": {
            "text/plain": [
              "<IPython.core.display.Javascript object>"
            ],
            "application/javascript": [
              "download(\"download_79a3f324-5c16-4ea7-93d2-cbfcba075b52\", \"demographics_mortality.png\", 131728)"
            ]
          },
          "metadata": {}
        },
        {
          "output_type": "stream",
          "name": "stdout",
          "text": [
            " Downloaded: demographics_mortality.png\n"
          ]
        },
        {
          "output_type": "display_data",
          "data": {
            "text/plain": [
              "<IPython.core.display.Javascript object>"
            ],
            "application/javascript": [
              "\n",
              "    async function download(id, filename, size) {\n",
              "      if (!google.colab.kernel.accessAllowed) {\n",
              "        return;\n",
              "      }\n",
              "      const div = document.createElement('div');\n",
              "      const label = document.createElement('label');\n",
              "      label.textContent = `Downloading \"${filename}\": `;\n",
              "      div.appendChild(label);\n",
              "      const progress = document.createElement('progress');\n",
              "      progress.max = size;\n",
              "      div.appendChild(progress);\n",
              "      document.body.appendChild(div);\n",
              "\n",
              "      const buffers = [];\n",
              "      let downloaded = 0;\n",
              "\n",
              "      const channel = await google.colab.kernel.comms.open(id);\n",
              "      // Send a message to notify the kernel that we're ready.\n",
              "      channel.send({})\n",
              "\n",
              "      for await (const message of channel.messages) {\n",
              "        // Send a message to notify the kernel that we're ready.\n",
              "        channel.send({})\n",
              "        if (message.buffers) {\n",
              "          for (const buffer of message.buffers) {\n",
              "            buffers.push(buffer);\n",
              "            downloaded += buffer.byteLength;\n",
              "            progress.value = downloaded;\n",
              "          }\n",
              "        }\n",
              "      }\n",
              "      const blob = new Blob(buffers, {type: 'application/binary'});\n",
              "      const a = document.createElement('a');\n",
              "      a.href = window.URL.createObjectURL(blob);\n",
              "      a.download = filename;\n",
              "      div.appendChild(a);\n",
              "      a.click();\n",
              "      div.remove();\n",
              "    }\n",
              "  "
            ]
          },
          "metadata": {}
        },
        {
          "output_type": "display_data",
          "data": {
            "text/plain": [
              "<IPython.core.display.Javascript object>"
            ],
            "application/javascript": [
              "download(\"download_dbf3bc43-7792-43f3-ae99-0925c1744829\", \"comorbidity_analysis.png\", 190517)"
            ]
          },
          "metadata": {}
        },
        {
          "output_type": "stream",
          "name": "stdout",
          "text": [
            " Downloaded: comorbidity_analysis.png\n"
          ]
        },
        {
          "output_type": "display_data",
          "data": {
            "text/plain": [
              "<IPython.core.display.Javascript object>"
            ],
            "application/javascript": [
              "\n",
              "    async function download(id, filename, size) {\n",
              "      if (!google.colab.kernel.accessAllowed) {\n",
              "        return;\n",
              "      }\n",
              "      const div = document.createElement('div');\n",
              "      const label = document.createElement('label');\n",
              "      label.textContent = `Downloading \"${filename}\": `;\n",
              "      div.appendChild(label);\n",
              "      const progress = document.createElement('progress');\n",
              "      progress.max = size;\n",
              "      div.appendChild(progress);\n",
              "      document.body.appendChild(div);\n",
              "\n",
              "      const buffers = [];\n",
              "      let downloaded = 0;\n",
              "\n",
              "      const channel = await google.colab.kernel.comms.open(id);\n",
              "      // Send a message to notify the kernel that we're ready.\n",
              "      channel.send({})\n",
              "\n",
              "      for await (const message of channel.messages) {\n",
              "        // Send a message to notify the kernel that we're ready.\n",
              "        channel.send({})\n",
              "        if (message.buffers) {\n",
              "          for (const buffer of message.buffers) {\n",
              "            buffers.push(buffer);\n",
              "            downloaded += buffer.byteLength;\n",
              "            progress.value = downloaded;\n",
              "          }\n",
              "        }\n",
              "      }\n",
              "      const blob = new Blob(buffers, {type: 'application/binary'});\n",
              "      const a = document.createElement('a');\n",
              "      a.href = window.URL.createObjectURL(blob);\n",
              "      a.download = filename;\n",
              "      div.appendChild(a);\n",
              "      a.click();\n",
              "      div.remove();\n",
              "    }\n",
              "  "
            ]
          },
          "metadata": {}
        },
        {
          "output_type": "display_data",
          "data": {
            "text/plain": [
              "<IPython.core.display.Javascript object>"
            ],
            "application/javascript": [
              "download(\"download_93627e6f-7ed6-4e4a-b998-ce9855054320\", \"mimic_project_report.txt\", 4339)"
            ]
          },
          "metadata": {}
        },
        {
          "output_type": "stream",
          "name": "stdout",
          "text": [
            " Downloaded: mimic_project_report.txt\n",
            "\n",
            "======================================================================\n",
            " ALL FILES DOWNLOADED!\n",
            "======================================================================\n",
            "\n",
            " Files you should have:\n",
            "  1. mimic_ml_ready_dataset.csv\n",
            "  2. mimic_diagnoses_categorized.csv\n",
            "  3. mimic_patient_comprehensive.csv\n",
            "  4. mimic_data_overview.png\n",
            "  5. top_diagnoses.png\n",
            "  6. demographics_mortality.png\n",
            "  7. comorbidity_analysis.png\n",
            "  8. mimic_project_report.txt\n"
          ]
        }
      ]
    }
  ]
}